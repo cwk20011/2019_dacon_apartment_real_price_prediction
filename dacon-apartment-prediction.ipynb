{
 "cells": [
  {
   "cell_type": "markdown",
   "metadata": {},
   "source": [
    "# Library load"
   ]
  },
  {
   "cell_type": "code",
   "execution_count": 1,
   "metadata": {
    "_cell_guid": "79c7e3d0-c299-4dcb-8224-4455121ee9b0",
    "_uuid": "d629ff2d2480ee46fbb7e2d37f6b5fab8052498a"
   },
   "outputs": [],
   "source": [
    "import numpy as np\n",
    "import pandas as pd\n",
    "\n",
    "import seaborn as sns\n",
    "import matplotlib.pyplot as plt\n",
    "\n",
    "from sklearn import metrics\n",
    "\n",
    "from sklearn.model_selection import KFold\n",
    "from sklearn.model_selection import train_test_split\n",
    "\n",
    "from sklearn.ensemble import RandomForestRegressor\n",
    "import lightgbm as lgb"
   ]
  },
  {
   "cell_type": "markdown",
   "metadata": {},
   "source": [
    "# Data load"
   ]
  },
  {
   "cell_type": "code",
   "execution_count": 2,
   "metadata": {},
   "outputs": [],
   "source": [
    "train_df = pd.read_csv(\"../input/dacon-apartment-price-prediction/train.csv\")\n",
    "test_df = pd.read_csv(\"../input/dacon-apartment-price-prediction/test.csv\")\n",
    "park = pd.read_csv(\"../input/dacon-apartment-price-prediction/park.csv\")\n",
    "day_care = pd.read_csv(\"../input/dacon-apartment-price-prediction/day_care_center.csv\")"
   ]
  },
  {
   "cell_type": "markdown",
   "metadata": {},
   "source": [
    "# 데이터 확인하기"
   ]
  },
  {
   "cell_type": "code",
   "execution_count": 3,
   "metadata": {},
   "outputs": [
    {
     "data": {
      "text/html": [
       "<div>\n",
       "<style scoped>\n",
       "    .dataframe tbody tr th:only-of-type {\n",
       "        vertical-align: middle;\n",
       "    }\n",
       "\n",
       "    .dataframe tbody tr th {\n",
       "        vertical-align: top;\n",
       "    }\n",
       "\n",
       "    .dataframe thead th {\n",
       "        text-align: right;\n",
       "    }\n",
       "</style>\n",
       "<table border=\"1\" class=\"dataframe\">\n",
       "  <thead>\n",
       "    <tr style=\"text-align: right;\">\n",
       "      <th></th>\n",
       "      <th>transaction_id</th>\n",
       "      <th>apartment_id</th>\n",
       "      <th>city</th>\n",
       "      <th>dong</th>\n",
       "      <th>jibun</th>\n",
       "      <th>apt</th>\n",
       "      <th>addr_kr</th>\n",
       "      <th>exclusive_use_area</th>\n",
       "      <th>year_of_completion</th>\n",
       "      <th>transaction_year_month</th>\n",
       "      <th>transaction_date</th>\n",
       "      <th>floor</th>\n",
       "      <th>transaction_real_price</th>\n",
       "    </tr>\n",
       "  </thead>\n",
       "  <tbody>\n",
       "    <tr>\n",
       "      <th>0</th>\n",
       "      <td>0</td>\n",
       "      <td>7622</td>\n",
       "      <td>서울특별시</td>\n",
       "      <td>신교동</td>\n",
       "      <td>6-13</td>\n",
       "      <td>신현(101동)</td>\n",
       "      <td>신교동 6-13 신현(101동)</td>\n",
       "      <td>84.82</td>\n",
       "      <td>2002</td>\n",
       "      <td>200801</td>\n",
       "      <td>21~31</td>\n",
       "      <td>2</td>\n",
       "      <td>37500</td>\n",
       "    </tr>\n",
       "    <tr>\n",
       "      <th>1</th>\n",
       "      <td>1</td>\n",
       "      <td>5399</td>\n",
       "      <td>서울특별시</td>\n",
       "      <td>필운동</td>\n",
       "      <td>142</td>\n",
       "      <td>사직파크맨션</td>\n",
       "      <td>필운동 142 사직파크맨션</td>\n",
       "      <td>99.17</td>\n",
       "      <td>1973</td>\n",
       "      <td>200801</td>\n",
       "      <td>1~10</td>\n",
       "      <td>6</td>\n",
       "      <td>20000</td>\n",
       "    </tr>\n",
       "    <tr>\n",
       "      <th>2</th>\n",
       "      <td>2</td>\n",
       "      <td>3578</td>\n",
       "      <td>서울특별시</td>\n",
       "      <td>필운동</td>\n",
       "      <td>174-1</td>\n",
       "      <td>두레엘리시안</td>\n",
       "      <td>필운동 174-1 두레엘리시안</td>\n",
       "      <td>84.74</td>\n",
       "      <td>2007</td>\n",
       "      <td>200801</td>\n",
       "      <td>1~10</td>\n",
       "      <td>6</td>\n",
       "      <td>38500</td>\n",
       "    </tr>\n",
       "    <tr>\n",
       "      <th>3</th>\n",
       "      <td>3</td>\n",
       "      <td>10957</td>\n",
       "      <td>서울특별시</td>\n",
       "      <td>내수동</td>\n",
       "      <td>95</td>\n",
       "      <td>파크팰리스</td>\n",
       "      <td>내수동 95 파크팰리스</td>\n",
       "      <td>146.39</td>\n",
       "      <td>2003</td>\n",
       "      <td>200801</td>\n",
       "      <td>11~20</td>\n",
       "      <td>15</td>\n",
       "      <td>118000</td>\n",
       "    </tr>\n",
       "    <tr>\n",
       "      <th>4</th>\n",
       "      <td>4</td>\n",
       "      <td>10639</td>\n",
       "      <td>서울특별시</td>\n",
       "      <td>내수동</td>\n",
       "      <td>110-15</td>\n",
       "      <td>킹스매너</td>\n",
       "      <td>내수동 110-15 킹스매너</td>\n",
       "      <td>194.43</td>\n",
       "      <td>2004</td>\n",
       "      <td>200801</td>\n",
       "      <td>21~31</td>\n",
       "      <td>3</td>\n",
       "      <td>120000</td>\n",
       "    </tr>\n",
       "  </tbody>\n",
       "</table>\n",
       "</div>"
      ],
      "text/plain": [
       "   transaction_id           ...            transaction_real_price\n",
       "0               0           ...                             37500\n",
       "1               1           ...                             20000\n",
       "2               2           ...                             38500\n",
       "3               3           ...                            118000\n",
       "4               4           ...                            120000\n",
       "\n",
       "[5 rows x 13 columns]"
      ]
     },
     "execution_count": 3,
     "metadata": {},
     "output_type": "execute_result"
    }
   ],
   "source": [
    "train_df.head()"
   ]
  },
  {
   "cell_type": "code",
   "execution_count": 4,
   "metadata": {},
   "outputs": [
    {
     "name": "stdout",
     "output_type": "stream",
     "text": [
      "1216553\n",
      "5463\n"
     ]
    }
   ],
   "source": [
    "print(len(train_df))\n",
    "print(len(test_df))"
   ]
  },
  {
   "cell_type": "code",
   "execution_count": 5,
   "metadata": {},
   "outputs": [
    {
     "data": {
      "text/plain": [
       "transaction_id            0\n",
       "apartment_id              0\n",
       "city                      0\n",
       "dong                      0\n",
       "jibun                     0\n",
       "apt                       0\n",
       "addr_kr                   0\n",
       "exclusive_use_area        0\n",
       "year_of_completion        0\n",
       "transaction_year_month    0\n",
       "transaction_date          0\n",
       "floor                     0\n",
       "transaction_real_price    0\n",
       "dtype: int64"
      ]
     },
     "execution_count": 5,
     "metadata": {},
     "output_type": "execute_result"
    }
   ],
   "source": [
    "train_df.isnull().sum()"
   ]
  },
  {
   "cell_type": "code",
   "execution_count": 6,
   "metadata": {},
   "outputs": [
    {
     "data": {
      "text/plain": [
       "transaction_id            0\n",
       "apartment_id              0\n",
       "city                      0\n",
       "dong                      0\n",
       "jibun                     0\n",
       "apt                       0\n",
       "addr_kr                   0\n",
       "exclusive_use_area        0\n",
       "year_of_completion        0\n",
       "transaction_year_month    0\n",
       "transaction_date          0\n",
       "floor                     0\n",
       "dtype: int64"
      ]
     },
     "execution_count": 6,
     "metadata": {},
     "output_type": "execute_result"
    }
   ],
   "source": [
    "test_df.isnull().sum()"
   ]
  },
  {
   "cell_type": "code",
   "execution_count": 7,
   "metadata": {},
   "outputs": [
    {
     "data": {
      "text/html": [
       "<div>\n",
       "<style scoped>\n",
       "    .dataframe tbody tr th:only-of-type {\n",
       "        vertical-align: middle;\n",
       "    }\n",
       "\n",
       "    .dataframe tbody tr th {\n",
       "        vertical-align: top;\n",
       "    }\n",
       "\n",
       "    .dataframe thead th {\n",
       "        text-align: right;\n",
       "    }\n",
       "</style>\n",
       "<table border=\"1\" class=\"dataframe\">\n",
       "  <thead>\n",
       "    <tr style=\"text-align: right;\">\n",
       "      <th></th>\n",
       "      <th>city</th>\n",
       "      <th>gu</th>\n",
       "      <th>dong</th>\n",
       "      <th>park_name</th>\n",
       "      <th>park_type</th>\n",
       "      <th>park_area</th>\n",
       "      <th>park_exercise_facility</th>\n",
       "      <th>park_entertainment_facility</th>\n",
       "      <th>park_benefit_facility</th>\n",
       "      <th>park_cultural_facitiy</th>\n",
       "      <th>park_facility_other</th>\n",
       "      <th>park_open_year</th>\n",
       "      <th>reference_date</th>\n",
       "    </tr>\n",
       "  </thead>\n",
       "  <tbody>\n",
       "    <tr>\n",
       "      <th>0</th>\n",
       "      <td>부산광역시</td>\n",
       "      <td>남구</td>\n",
       "      <td>대연동</td>\n",
       "      <td>대연공원</td>\n",
       "      <td>근린공원</td>\n",
       "      <td>55227.0</td>\n",
       "      <td>NaN</td>\n",
       "      <td>NaN</td>\n",
       "      <td>NaN</td>\n",
       "      <td>NaN</td>\n",
       "      <td>NaN</td>\n",
       "      <td>1944.0</td>\n",
       "      <td>2018-08-14</td>\n",
       "    </tr>\n",
       "    <tr>\n",
       "      <th>1</th>\n",
       "      <td>부산광역시</td>\n",
       "      <td>남구</td>\n",
       "      <td>대연동</td>\n",
       "      <td>당곡공원</td>\n",
       "      <td>역사공원</td>\n",
       "      <td>75465.0</td>\n",
       "      <td>NaN</td>\n",
       "      <td>NaN</td>\n",
       "      <td>NaN</td>\n",
       "      <td>NaN</td>\n",
       "      <td>NaN</td>\n",
       "      <td>1944.0</td>\n",
       "      <td>2018-08-14</td>\n",
       "    </tr>\n",
       "    <tr>\n",
       "      <th>2</th>\n",
       "      <td>부산광역시</td>\n",
       "      <td>남구</td>\n",
       "      <td>대연동</td>\n",
       "      <td>대일어린이공원</td>\n",
       "      <td>어린이공원</td>\n",
       "      <td>422.1</td>\n",
       "      <td>NaN</td>\n",
       "      <td>NaN</td>\n",
       "      <td>NaN</td>\n",
       "      <td>NaN</td>\n",
       "      <td>NaN</td>\n",
       "      <td>1965.0</td>\n",
       "      <td>2018-08-14</td>\n",
       "    </tr>\n",
       "    <tr>\n",
       "      <th>3</th>\n",
       "      <td>부산광역시</td>\n",
       "      <td>남구</td>\n",
       "      <td>대연동</td>\n",
       "      <td>못골어린이공원</td>\n",
       "      <td>어린이공원</td>\n",
       "      <td>499.8</td>\n",
       "      <td>NaN</td>\n",
       "      <td>NaN</td>\n",
       "      <td>NaN</td>\n",
       "      <td>NaN</td>\n",
       "      <td>NaN</td>\n",
       "      <td>1968.0</td>\n",
       "      <td>2018-08-14</td>\n",
       "    </tr>\n",
       "    <tr>\n",
       "      <th>4</th>\n",
       "      <td>부산광역시</td>\n",
       "      <td>남구</td>\n",
       "      <td>용호동</td>\n",
       "      <td>솔밭어린이공원</td>\n",
       "      <td>어린이공원</td>\n",
       "      <td>1500.2</td>\n",
       "      <td>NaN</td>\n",
       "      <td>NaN</td>\n",
       "      <td>NaN</td>\n",
       "      <td>NaN</td>\n",
       "      <td>NaN</td>\n",
       "      <td>1970.0</td>\n",
       "      <td>2018-08-14</td>\n",
       "    </tr>\n",
       "  </tbody>\n",
       "</table>\n",
       "</div>"
      ],
      "text/plain": [
       "    city  gu      ...       park_open_year reference_date\n",
       "0  부산광역시  남구      ...               1944.0     2018-08-14\n",
       "1  부산광역시  남구      ...               1944.0     2018-08-14\n",
       "2  부산광역시  남구      ...               1965.0     2018-08-14\n",
       "3  부산광역시  남구      ...               1968.0     2018-08-14\n",
       "4  부산광역시  남구      ...               1970.0     2018-08-14\n",
       "\n",
       "[5 rows x 13 columns]"
      ]
     },
     "execution_count": 7,
     "metadata": {},
     "output_type": "execute_result"
    }
   ],
   "source": [
    "park.head()"
   ]
  },
  {
   "cell_type": "code",
   "execution_count": 8,
   "metadata": {},
   "outputs": [
    {
     "data": {
      "text/plain": [
       "1359"
      ]
     },
     "execution_count": 8,
     "metadata": {},
     "output_type": "execute_result"
    }
   ],
   "source": [
    "len(park)"
   ]
  },
  {
   "cell_type": "code",
   "execution_count": 9,
   "metadata": {},
   "outputs": [
    {
     "data": {
      "text/plain": [
       "city                              0\n",
       "gu                                3\n",
       "dong                              0\n",
       "park_name                         0\n",
       "park_type                         0\n",
       "park_area                         0\n",
       "park_exercise_facility         1082\n",
       "park_entertainment_facility     924\n",
       "park_benefit_facility          1093\n",
       "park_cultural_facitiy          1287\n",
       "park_facility_other            1184\n",
       "park_open_year                  422\n",
       "reference_date                    0\n",
       "dtype: int64"
      ]
     },
     "execution_count": 9,
     "metadata": {},
     "output_type": "execute_result"
    }
   ],
   "source": [
    "park.isnull().sum()"
   ]
  },
  {
   "cell_type": "code",
   "execution_count": 10,
   "metadata": {},
   "outputs": [
    {
     "data": {
      "text/html": [
       "<div>\n",
       "<style scoped>\n",
       "    .dataframe tbody tr th:only-of-type {\n",
       "        vertical-align: middle;\n",
       "    }\n",
       "\n",
       "    .dataframe tbody tr th {\n",
       "        vertical-align: top;\n",
       "    }\n",
       "\n",
       "    .dataframe thead th {\n",
       "        text-align: right;\n",
       "    }\n",
       "</style>\n",
       "<table border=\"1\" class=\"dataframe\">\n",
       "  <thead>\n",
       "    <tr style=\"text-align: right;\">\n",
       "      <th></th>\n",
       "      <th>city</th>\n",
       "      <th>gu</th>\n",
       "      <th>day_care_name</th>\n",
       "      <th>day_care_type</th>\n",
       "      <th>day_care_baby_num</th>\n",
       "      <th>teacher_num</th>\n",
       "      <th>nursing_room_num</th>\n",
       "      <th>playground_num</th>\n",
       "      <th>CCTV_num</th>\n",
       "      <th>is_commuting_vehicle</th>\n",
       "      <th>reference_date</th>\n",
       "    </tr>\n",
       "  </thead>\n",
       "  <tbody>\n",
       "    <tr>\n",
       "      <th>0</th>\n",
       "      <td>서울특별시</td>\n",
       "      <td>서대문구</td>\n",
       "      <td>가람어린이집</td>\n",
       "      <td>국공립</td>\n",
       "      <td>70</td>\n",
       "      <td>11.0</td>\n",
       "      <td>5.0</td>\n",
       "      <td>1.0</td>\n",
       "      <td>7.0</td>\n",
       "      <td>N</td>\n",
       "      <td>2018-07-31</td>\n",
       "    </tr>\n",
       "    <tr>\n",
       "      <th>1</th>\n",
       "      <td>서울특별시</td>\n",
       "      <td>서대문구</td>\n",
       "      <td>가좌제일어린이집</td>\n",
       "      <td>국공립</td>\n",
       "      <td>88</td>\n",
       "      <td>22.0</td>\n",
       "      <td>5.0</td>\n",
       "      <td>2.0</td>\n",
       "      <td>10.0</td>\n",
       "      <td>N</td>\n",
       "      <td>2018-07-31</td>\n",
       "    </tr>\n",
       "    <tr>\n",
       "      <th>2</th>\n",
       "      <td>서울특별시</td>\n",
       "      <td>서대문구</td>\n",
       "      <td>경찰청어린이집</td>\n",
       "      <td>직장</td>\n",
       "      <td>90</td>\n",
       "      <td>23.0</td>\n",
       "      <td>6.0</td>\n",
       "      <td>1.0</td>\n",
       "      <td>32.0</td>\n",
       "      <td>N</td>\n",
       "      <td>2018-07-31</td>\n",
       "    </tr>\n",
       "    <tr>\n",
       "      <th>3</th>\n",
       "      <td>서울특별시</td>\n",
       "      <td>서대문구</td>\n",
       "      <td>고운햇살어린이집</td>\n",
       "      <td>가정</td>\n",
       "      <td>18</td>\n",
       "      <td>5.0</td>\n",
       "      <td>3.0</td>\n",
       "      <td>0.0</td>\n",
       "      <td>4.0</td>\n",
       "      <td>N</td>\n",
       "      <td>2018-07-31</td>\n",
       "    </tr>\n",
       "    <tr>\n",
       "      <th>4</th>\n",
       "      <td>서울특별시</td>\n",
       "      <td>서대문구</td>\n",
       "      <td>고은어린이집</td>\n",
       "      <td>국공립</td>\n",
       "      <td>93</td>\n",
       "      <td>20.0</td>\n",
       "      <td>7.0</td>\n",
       "      <td>2.0</td>\n",
       "      <td>10.0</td>\n",
       "      <td>N</td>\n",
       "      <td>2018-07-31</td>\n",
       "    </tr>\n",
       "  </tbody>\n",
       "</table>\n",
       "</div>"
      ],
      "text/plain": [
       "    city    gu      ...       is_commuting_vehicle reference_date\n",
       "0  서울특별시  서대문구      ...                          N     2018-07-31\n",
       "1  서울특별시  서대문구      ...                          N     2018-07-31\n",
       "2  서울특별시  서대문구      ...                          N     2018-07-31\n",
       "3  서울특별시  서대문구      ...                          N     2018-07-31\n",
       "4  서울특별시  서대문구      ...                          N     2018-07-31\n",
       "\n",
       "[5 rows x 11 columns]"
      ]
     },
     "execution_count": 10,
     "metadata": {},
     "output_type": "execute_result"
    }
   ],
   "source": [
    "day_care.head()"
   ]
  },
  {
   "cell_type": "code",
   "execution_count": 11,
   "metadata": {},
   "outputs": [
    {
     "data": {
      "text/plain": [
       "7551"
      ]
     },
     "execution_count": 11,
     "metadata": {},
     "output_type": "execute_result"
    }
   ],
   "source": [
    "len(day_care)"
   ]
  },
  {
   "cell_type": "code",
   "execution_count": 12,
   "metadata": {},
   "outputs": [
    {
     "data": {
      "text/plain": [
       "city                       0\n",
       "gu                         0\n",
       "day_care_name              0\n",
       "day_care_type              0\n",
       "day_care_baby_num          0\n",
       "teacher_num              225\n",
       "nursing_room_num        3199\n",
       "playground_num          3925\n",
       "CCTV_num                2271\n",
       "is_commuting_vehicle     496\n",
       "reference_date             0\n",
       "dtype: int64"
      ]
     },
     "execution_count": 12,
     "metadata": {},
     "output_type": "execute_result"
    }
   ],
   "source": [
    "day_care.isnull().sum()"
   ]
  },
  {
   "cell_type": "markdown",
   "metadata": {},
   "source": [
    "# Preprocessing"
   ]
  },
  {
   "cell_type": "code",
   "execution_count": 13,
   "metadata": {},
   "outputs": [],
   "source": [
    "# 아파트 실거래가(예측변수) 추출\n",
    "y = train_df['transaction_real_price']"
   ]
  },
  {
   "cell_type": "code",
   "execution_count": 14,
   "metadata": {},
   "outputs": [],
   "source": [
    "train_df.drop('transaction_real_price',axis= 1,inplace =True)"
   ]
  },
  {
   "cell_type": "code",
   "execution_count": 15,
   "metadata": {},
   "outputs": [],
   "source": [
    "# 트레인셋 라벨링\n",
    "train_df['train_YN']=np.ones(len(train_df))\n",
    "test_df['train_YN']=np.zeros(len(test_df))"
   ]
  },
  {
   "cell_type": "code",
   "execution_count": 16,
   "metadata": {},
   "outputs": [],
   "source": [
    "# 트레인셋과 테스트셋 결합 후 전처리 \n",
    "df = pd.concat([train_df,test_df],axis =0)"
   ]
  },
  {
   "cell_type": "code",
   "execution_count": 17,
   "metadata": {},
   "outputs": [
    {
     "data": {
      "text/plain": [
       "(1222016, 13)"
      ]
     },
     "execution_count": 17,
     "metadata": {},
     "output_type": "execute_result"
    }
   ],
   "source": [
    "df.shape"
   ]
  },
  {
   "cell_type": "code",
   "execution_count": 18,
   "metadata": {},
   "outputs": [
    {
     "data": {
      "text/plain": [
       "array(['21~31', '1~10', '11~20', '21~29', '21~30', '21~28'], dtype=object)"
      ]
     },
     "execution_count": 18,
     "metadata": {},
     "output_type": "execute_result"
    }
   ],
   "source": [
    "# 거래날짜 변수 유니크 값 확인\n",
    "df['transaction_date'].unique()"
   ]
  },
  {
   "cell_type": "code",
   "execution_count": 19,
   "metadata": {},
   "outputs": [],
   "source": [
    "# 거래날짜 변수 값 변형\n",
    "df.loc[df['transaction_date']=='21~31', 'transaction_date'] = 2\n",
    "df.loc[df['transaction_date']=='1~10', 'transaction_date'] = 0\n",
    "df.loc[df['transaction_date']=='11~20', 'transaction_date'] = 1\n",
    "df.loc[df['transaction_date']=='21~29', 'transaction_date'] = 2\n",
    "df.loc[df['transaction_date']=='21~30', 'transaction_date'] = 2\n",
    "df.loc[df['transaction_date']=='21~28', 'transaction_date'] = 2"
   ]
  },
  {
   "cell_type": "code",
   "execution_count": 20,
   "metadata": {},
   "outputs": [],
   "source": [
    "# 거래년월 분리 후 '연도' 와 '월' 컬럼 생성\n",
    "df['year'] = df['transaction_year_month'].apply(lambda x : int(str(x)[:4]))\n",
    "df['month'] = df['transaction_year_month'].apply(lambda x : int(str(x)[4:]))"
   ]
  },
  {
   "cell_type": "code",
   "execution_count": 21,
   "metadata": {},
   "outputs": [],
   "source": [
    "# '월' 변수로 '분기' 변수 생성\n",
    "quarter = np.array(df['month']).tolist()"
   ]
  },
  {
   "cell_type": "code",
   "execution_count": 22,
   "metadata": {},
   "outputs": [],
   "source": [
    "# 1~4분기로 나누는 조건문\n",
    "for i in range(len(quarter)):\n",
    "    if quarter[i] in [1,2,3]:\n",
    "        quarter[i] = '1quarter'\n",
    "    elif quarter[i] in [4,5,6]:\n",
    "        quarter[i] = '2quarter'\n",
    "    elif quarter[i] in [7,8,9]:\n",
    "        quarter[i]  = '3quarter'\n",
    "    else :\n",
    "        quarter[i] = '4quarter'"
   ]
  },
  {
   "cell_type": "code",
   "execution_count": 23,
   "metadata": {},
   "outputs": [],
   "source": [
    "# 데이터 셋에 '분기' 변수 생성\n",
    "df['quarter'] = pd.DataFrame(quarter,columns=['quarter'])"
   ]
  },
  {
   "cell_type": "code",
   "execution_count": 24,
   "metadata": {},
   "outputs": [],
   "source": [
    "# '분기'변수를 숫자로 변환\n",
    "df.loc[df['quarter'] == '1quarter', 'quarter'] = 1\n",
    "df.loc[df['quarter'] == '2quarter', 'quarter'] = 2\n",
    "df.loc[df['quarter'] == '3quarter', 'quarter'] = 3\n",
    "df.loc[df['quarter'] == '4quarter', 'quarter'] = 4\n"
   ]
  },
  {
   "cell_type": "code",
   "execution_count": 25,
   "metadata": {},
   "outputs": [
    {
     "data": {
      "text/plain": [
       "transaction_id            0\n",
       "apartment_id              0\n",
       "city                      0\n",
       "dong                      0\n",
       "jibun                     0\n",
       "apt                       0\n",
       "addr_kr                   0\n",
       "exclusive_use_area        0\n",
       "year_of_completion        0\n",
       "transaction_year_month    0\n",
       "transaction_date          0\n",
       "floor                     0\n",
       "train_YN                  0\n",
       "year                      0\n",
       "month                     0\n",
       "quarter                   0\n",
       "dtype: int64"
      ]
     },
     "execution_count": 25,
     "metadata": {},
     "output_type": "execute_result"
    }
   ],
   "source": [
    "# 결측값 여부 확인 \n",
    "df.isnull().sum()"
   ]
  },
  {
   "cell_type": "code",
   "execution_count": 26,
   "metadata": {},
   "outputs": [
    {
     "data": {
      "text/plain": [
       "237"
      ]
     },
     "execution_count": 26,
     "metadata": {},
     "output_type": "execute_result"
    }
   ],
   "source": [
    "# 공원 데이터셋에서 '동' 유니크 개수 확인\n",
    "park['dong'].nunique()"
   ]
  },
  {
   "cell_type": "code",
   "execution_count": 27,
   "metadata": {},
   "outputs": [],
   "source": [
    "# 시, 구, 동을 그룹화 하여 공원 개수 카운트 \n",
    "park_count = park.groupby([park['city'],park['gu'],park['dong']]).count()['park_name']"
   ]
  },
  {
   "cell_type": "code",
   "execution_count": 28,
   "metadata": {},
   "outputs": [],
   "source": [
    "# 시, 구, 동을 그룹화 한뒤 동마다 공원의 면적과 개장연도를 합산 후 공원 개수 카운트 데이터와 concat\n",
    "park_df = pd.concat([park.groupby([park['city'],park['gu'],park['dong']]).sum(),park_count],axis =1)"
   ]
  },
  {
   "cell_type": "code",
   "execution_count": 29,
   "metadata": {},
   "outputs": [
    {
     "data": {
      "text/html": [
       "<div>\n",
       "<style scoped>\n",
       "    .dataframe tbody tr th:only-of-type {\n",
       "        vertical-align: middle;\n",
       "    }\n",
       "\n",
       "    .dataframe tbody tr th {\n",
       "        vertical-align: top;\n",
       "    }\n",
       "\n",
       "    .dataframe thead th {\n",
       "        text-align: right;\n",
       "    }\n",
       "</style>\n",
       "<table border=\"1\" class=\"dataframe\">\n",
       "  <thead>\n",
       "    <tr style=\"text-align: right;\">\n",
       "      <th></th>\n",
       "      <th></th>\n",
       "      <th></th>\n",
       "      <th>park_area</th>\n",
       "      <th>park_open_year</th>\n",
       "      <th>park_name</th>\n",
       "    </tr>\n",
       "    <tr>\n",
       "      <th>city</th>\n",
       "      <th>gu</th>\n",
       "      <th>dong</th>\n",
       "      <th></th>\n",
       "      <th></th>\n",
       "      <th></th>\n",
       "    </tr>\n",
       "  </thead>\n",
       "  <tbody>\n",
       "    <tr>\n",
       "      <th rowspan=\"5\" valign=\"top\">부산광역시</th>\n",
       "      <th rowspan=\"5\" valign=\"top\">강서구</th>\n",
       "      <th>녹산동</th>\n",
       "      <td>12211.9</td>\n",
       "      <td>2010.0</td>\n",
       "      <td>1</td>\n",
       "    </tr>\n",
       "    <tr>\n",
       "      <th>대저1동</th>\n",
       "      <td>646.0</td>\n",
       "      <td>2013.0</td>\n",
       "      <td>1</td>\n",
       "    </tr>\n",
       "    <tr>\n",
       "      <th>명지동</th>\n",
       "      <td>348482.8</td>\n",
       "      <td>50133.0</td>\n",
       "      <td>25</td>\n",
       "    </tr>\n",
       "    <tr>\n",
       "      <th>송정동</th>\n",
       "      <td>57560.0</td>\n",
       "      <td>3984.0</td>\n",
       "      <td>2</td>\n",
       "    </tr>\n",
       "    <tr>\n",
       "      <th>신호동</th>\n",
       "      <td>69323.0</td>\n",
       "      <td>7982.0</td>\n",
       "      <td>4</td>\n",
       "    </tr>\n",
       "  </tbody>\n",
       "</table>\n",
       "</div>"
      ],
      "text/plain": [
       "                park_area  park_open_year  park_name\n",
       "city  gu  dong                                      \n",
       "부산광역시 강서구 녹산동     12211.9          2010.0          1\n",
       "          대저1동      646.0          2013.0          1\n",
       "          명지동    348482.8         50133.0         25\n",
       "          송정동     57560.0          3984.0          2\n",
       "          신호동     69323.0          7982.0          4"
      ]
     },
     "execution_count": 29,
     "metadata": {},
     "output_type": "execute_result"
    }
   ],
   "source": [
    "park_df.head()"
   ]
  },
  {
   "cell_type": "code",
   "execution_count": 30,
   "metadata": {},
   "outputs": [],
   "source": [
    "# 컬럼명 변경 \n",
    "park_df.columns = ['park_area','park_open_year','count']"
   ]
  },
  {
   "cell_type": "code",
   "execution_count": 31,
   "metadata": {},
   "outputs": [],
   "source": [
    "# 개장년도는 활용 불가능하다고 판단되어 삭제 \n",
    "park_df.drop('park_open_year',axis=1,inplace = True)"
   ]
  },
  {
   "cell_type": "code",
   "execution_count": 32,
   "metadata": {},
   "outputs": [],
   "source": [
    "# 공원 개당 평균 면적 계산 후 데이터 셋에 합함  \n",
    "park_df['park_area_mean'] = park_df['park_area']/park_df['count']"
   ]
  },
  {
   "cell_type": "code",
   "execution_count": 33,
   "metadata": {},
   "outputs": [],
   "source": [
    "# 그룹화 한 데이터 셋에서 (시,구,동) 분리\n",
    "zz = []\n",
    "dong_gu_name = []\n",
    "for idx, dong_gu in enumerate(park_df.index):\n",
    "    zz.append(idx)\n",
    "    dong_gu_name.append(dong_gu)"
   ]
  },
  {
   "cell_type": "code",
   "execution_count": 34,
   "metadata": {},
   "outputs": [],
   "source": [
    "# 위에서 분리한 시, 구 , 동을 다시 각각 새로운 리스트로 할당\n",
    "dong = []\n",
    "gu = []\n",
    "city =[]\n",
    "for i in range(len(dong_gu_name)):\n",
    "    city.append(dong_gu_name[i][0])\n",
    "    dong.append(dong_gu_name[i][2])\n",
    "    gu.append(dong_gu_name[i][1])"
   ]
  },
  {
   "cell_type": "code",
   "execution_count": 35,
   "metadata": {},
   "outputs": [],
   "source": [
    "# 리스트를 데이터프레임 화 \n",
    "dong_df = pd.DataFrame(dong,columns=['dong'])\n",
    "gu_df = pd.DataFrame(gu,columns=['gu'])\n",
    "city_df = pd.DataFrame(city,columns=['city'])"
   ]
  },
  {
   "cell_type": "code",
   "execution_count": 36,
   "metadata": {},
   "outputs": [],
   "source": [
    "# 인덱스 번호를 맞춘 후 합치기 위해 재지정\n",
    "park_df.index=range(len(park_df))"
   ]
  },
  {
   "cell_type": "code",
   "execution_count": 37,
   "metadata": {},
   "outputs": [],
   "source": [
    "# 데이터 프레임에 시,구,동 합치기\n",
    "park_df = pd.concat([park_df,dong_df],axis=1)\n",
    "park_df = pd.concat([park_df,gu_df],axis=1)\n",
    "park_df = pd.concat([park_df,city_df],axis=1)"
   ]
  },
  {
   "cell_type": "code",
   "execution_count": 38,
   "metadata": {},
   "outputs": [
    {
     "name": "stdout",
     "output_type": "stream",
     "text": [
      "237\n",
      "244\n",
      "244\n"
     ]
    }
   ],
   "source": [
    "# 트레인 셋과 합치기 위해 키 값으로 사용할 동이 고유 값인지 확인\n",
    "print(park_df['dong'].nunique()) \n",
    "print(park_df['park_area'].nunique())\n",
    "print(park_df['park_area_mean'].nunique())"
   ]
  },
  {
   "cell_type": "markdown",
   "metadata": {},
   "source": [
    "#### 같은 동의 이름이 있다고 의심이 됨"
   ]
  },
  {
   "cell_type": "code",
   "execution_count": 39,
   "metadata": {},
   "outputs": [
    {
     "name": "stdout",
     "output_type": "stream",
     "text": [
      "송정동\n",
      "송정동\n",
      "청룡동\n",
      "송정동\n",
      "삼성동\n",
      "신사동\n",
      "신사동\n",
      "신사동\n",
      "신원동\n"
     ]
    }
   ],
   "source": [
    "# 같은 동의 이름을 탐색\n",
    "for i in range(len(park_df)):\n",
    "    for j in range(len(park_df)):\n",
    "        if park_df['dong'][i] == park_df['dong'][j] and j>i :\n",
    "            print(park_df['dong'][i])"
   ]
  },
  {
   "cell_type": "code",
   "execution_count": 40,
   "metadata": {},
   "outputs": [],
   "source": [
    "# 삼성동, 송정동, 신사동, 신원동, 청룡동이 이름이 같은 동인 것을 확인하였고 트레인셋의 조인에 영향을 주지 않기 위해 제거하려고 따로 저장 \n",
    "remainder = park_df.loc[park_df['dong'].isin(['삼성동','송정동','신사동','신원동','청룡동'])]"
   ]
  },
  {
   "cell_type": "code",
   "execution_count": 41,
   "metadata": {},
   "outputs": [],
   "source": [
    "# 삭제하기 위해 인덱스 추출 \n",
    "delidx = remainder.index.tolist()"
   ]
  },
  {
   "cell_type": "code",
   "execution_count": 42,
   "metadata": {},
   "outputs": [],
   "source": [
    "# 같은 이름의 동 삭제\n",
    "park_df.drop(park_df.index[delidx],inplace=True)"
   ]
  },
  {
   "cell_type": "markdown",
   "metadata": {},
   "source": [
    "### 공원데이터와 기존데이터 merge"
   ]
  },
  {
   "cell_type": "code",
   "execution_count": 43,
   "metadata": {},
   "outputs": [],
   "source": [
    "df_merge = pd.merge(df,park_df,on=['dong'],how='outer')"
   ]
  },
  {
   "cell_type": "code",
   "execution_count": 44,
   "metadata": {},
   "outputs": [
    {
     "data": {
      "text/plain": [
       "1222016"
      ]
     },
     "execution_count": 44,
     "metadata": {},
     "output_type": "execute_result"
    }
   ],
   "source": [
    "len(df_merge) # 기존 데이터셋과 길이가 일치하는 것을 확인함"
   ]
  },
  {
   "cell_type": "code",
   "execution_count": 45,
   "metadata": {},
   "outputs": [
    {
     "data": {
      "text/plain": [
       "Index(['transaction_id', 'apartment_id', 'city_x', 'dong', 'jibun', 'apt',\n",
       "       'addr_kr', 'exclusive_use_area', 'year_of_completion',\n",
       "       'transaction_year_month', 'transaction_date', 'floor', 'train_YN',\n",
       "       'year', 'month', 'quarter', 'park_area', 'count', 'park_area_mean',\n",
       "       'gu', 'city_y'],\n",
       "      dtype='object')"
      ]
     },
     "execution_count": 45,
     "metadata": {},
     "output_type": "execute_result"
    }
   ],
   "source": [
    "# 컬럼명 확인\n",
    "df_merge.columns"
   ]
  },
  {
   "cell_type": "code",
   "execution_count": 46,
   "metadata": {},
   "outputs": [],
   "source": [
    "# 중복 컬럼 제거 \n",
    "del df_merge['city_y']"
   ]
  },
  {
   "cell_type": "code",
   "execution_count": 47,
   "metadata": {},
   "outputs": [],
   "source": [
    "# 컬럼 재정의\n",
    "df_merge.columns = ['transaction_id', 'apartment_id', 'city', 'dong', 'jibun',\n",
    "       'apt', 'addr_kr', 'exclusive_use_area', 'year_of_completion',\n",
    "       'transaction_year_month', 'transaction_date', 'floor', 'train_YN',\n",
    "       'year', 'month', 'quarter', 'park_area', 'count', 'park_area_mean',\n",
    "       'gu']"
   ]
  },
  {
   "cell_type": "code",
   "execution_count": 48,
   "metadata": {},
   "outputs": [
    {
     "data": {
      "text/plain": [
       "transaction_id                 0\n",
       "apartment_id                   0\n",
       "city                           0\n",
       "dong                           0\n",
       "jibun                          0\n",
       "apt                            0\n",
       "addr_kr                        0\n",
       "exclusive_use_area             0\n",
       "year_of_completion             0\n",
       "transaction_year_month         0\n",
       "transaction_date               0\n",
       "floor                          0\n",
       "train_YN                       0\n",
       "year                           0\n",
       "month                          0\n",
       "quarter                        0\n",
       "park_area                 275911\n",
       "count                     275911\n",
       "park_area_mean            275911\n",
       "gu                        275911\n",
       "dtype: int64"
      ]
     },
     "execution_count": 48,
     "metadata": {},
     "output_type": "execute_result"
    }
   ],
   "source": [
    "# 결측값 확인 \n",
    "df_merge.isnull().sum()"
   ]
  },
  {
   "cell_type": "code",
   "execution_count": 49,
   "metadata": {},
   "outputs": [],
   "source": [
    "# 결측값 0으로 대체\n",
    "df_merge.fillna(0,inplace=True)"
   ]
  },
  {
   "cell_type": "code",
   "execution_count": 50,
   "metadata": {},
   "outputs": [
    {
     "data": {
      "text/plain": [
       "city                       0\n",
       "gu                         0\n",
       "day_care_name              0\n",
       "day_care_type              0\n",
       "day_care_baby_num          0\n",
       "teacher_num              225\n",
       "nursing_room_num        3199\n",
       "playground_num          3925\n",
       "CCTV_num                2271\n",
       "is_commuting_vehicle     496\n",
       "reference_date             0\n",
       "dtype: int64"
      ]
     },
     "execution_count": 50,
     "metadata": {},
     "output_type": "execute_result"
    }
   ],
   "source": [
    "# 보육시설 결측값 확인\n",
    "day_care.isnull().sum()"
   ]
  },
  {
   "cell_type": "code",
   "execution_count": 51,
   "metadata": {},
   "outputs": [
    {
     "data": {
      "text/plain": [
       "array(['N', 'Y', ' ', nan, 'n', 'y'], dtype=object)"
      ]
     },
     "execution_count": 51,
     "metadata": {},
     "output_type": "execute_result"
    }
   ],
   "source": [
    "# '통학차량 운영여부' 변수를 사용하기위해 확인\n",
    "day_care['is_commuting_vehicle'].unique()\n"
   ]
  },
  {
   "cell_type": "code",
   "execution_count": 52,
   "metadata": {},
   "outputs": [],
   "source": [
    "# 통학차량 운영여부 변수 사용하기위해 변환\n",
    "day_care.loc[day_care['is_commuting_vehicle']=='N','is_commuting_vehicle'] = 0\n",
    "day_care.loc[day_care['is_commuting_vehicle']=='Y','is_commuting_vehicle'] = 1\n",
    "day_care.loc[day_care['is_commuting_vehicle']==' ','is_commuting_vehicle'] = 0\n",
    "day_care.loc[day_care['is_commuting_vehicle']=='n','is_commuting_vehicle'] = 0\n",
    "day_care.loc[day_care['is_commuting_vehicle']=='y','is_commuting_vehicle'] = 1"
   ]
  },
  {
   "cell_type": "code",
   "execution_count": 53,
   "metadata": {},
   "outputs": [],
   "source": [
    "# 통학차량 운영여부 결측값 0 으로 변환\n",
    "day_care['is_commuting_vehicle'].fillna(0,inplace=True)"
   ]
  },
  {
   "cell_type": "code",
   "execution_count": 54,
   "metadata": {},
   "outputs": [
    {
     "data": {
      "text/plain": [
       "array([0, 1])"
      ]
     },
     "execution_count": 54,
     "metadata": {},
     "output_type": "execute_result"
    }
   ],
   "source": [
    "# 통학차량 운영여부 변수 0,1 만 존재함을 확인\n",
    "day_care['is_commuting_vehicle'].unique()"
   ]
  },
  {
   "cell_type": "code",
   "execution_count": 55,
   "metadata": {},
   "outputs": [],
   "source": [
    "# 통학차량 운영여부 변수 숫자형으로 변환\n",
    "day_care['is_commuting_vehicle'] = day_care['is_commuting_vehicle'].astype('int')"
   ]
  },
  {
   "cell_type": "code",
   "execution_count": 56,
   "metadata": {},
   "outputs": [],
   "source": [
    "# 구와 시별로 그룹화 하여 보육시설 개수 확인 \n",
    "cnt = day_care.groupby([day_care['gu'],day_care['city']]).count()['day_care_name']"
   ]
  },
  {
   "cell_type": "code",
   "execution_count": 57,
   "metadata": {},
   "outputs": [],
   "source": [
    "# 구와 시별로 그룹화 하여 각 변수의 합과 위에서 계산한 보육시설 개수를 concat\n",
    "daycare_df = pd.concat([day_care.groupby([day_care['gu'],day_care['city']]).sum(),cnt],axis=1)"
   ]
  },
  {
   "cell_type": "code",
   "execution_count": 58,
   "metadata": {},
   "outputs": [],
   "source": [
    "# 컬럼 재정의\n",
    "daycare_df.columns = ['day_care_baby_num', 'teacher_num', 'nursing_room_num',\n",
    "       'playground_num', 'CCTV_num', 'is_commuting_vehicle','cnt']"
   ]
  },
  {
   "cell_type": "code",
   "execution_count": 59,
   "metadata": {},
   "outputs": [],
   "source": [
    "# 보육시설 당 평균 정원수 변수 추가\n",
    "daycare_df['day_care_mean'] = daycare_df['day_care_baby_num']/daycare_df['cnt']"
   ]
  },
  {
   "cell_type": "code",
   "execution_count": 60,
   "metadata": {},
   "outputs": [],
   "source": [
    "# 구와 시를 데이터 셋에서 분리 \n",
    "zzz = []\n",
    "gu_city_name = []\n",
    "for idx, gu_city in enumerate(daycare_df.index):\n",
    "    zzz.append(idx)\n",
    "    gu_city_name.append(gu_city)"
   ]
  },
  {
   "cell_type": "code",
   "execution_count": 61,
   "metadata": {},
   "outputs": [],
   "source": [
    "# 구와 시를 또 다시 나눔 \n",
    "gu = []\n",
    "city = []\n",
    "for i in range(len(gu_city_name)):\n",
    "    gu.append(gu_city_name[i][0])\n",
    "    city.append(gu_city_name[i][1])"
   ]
  },
  {
   "cell_type": "code",
   "execution_count": 62,
   "metadata": {},
   "outputs": [],
   "source": [
    "# 각각 데이터 프레임화 \n",
    "gu_df = pd.DataFrame(gu,columns=['gu'])\n",
    "city_df = pd.DataFrame(city,columns=['city'])"
   ]
  },
  {
   "cell_type": "code",
   "execution_count": 63,
   "metadata": {},
   "outputs": [],
   "source": [
    "# 인덱스 재정의 \n",
    "daycare_df.index = range(len(daycare_df))"
   ]
  },
  {
   "cell_type": "code",
   "execution_count": 64,
   "metadata": {},
   "outputs": [],
   "source": [
    "# 구와 시 변수를 데이터셋에 concat\n",
    "daycare_df = pd.concat([daycare_df,gu_df],axis=1)\n",
    "daycare_df = pd.concat([daycare_df,city_df],axis=1)"
   ]
  },
  {
   "cell_type": "markdown",
   "metadata": {},
   "source": [
    "### 기존 데이터셋과 보육시설 데이터셋 merge"
   ]
  },
  {
   "cell_type": "code",
   "execution_count": 65,
   "metadata": {},
   "outputs": [],
   "source": [
    "final_df = pd.merge(df_merge,daycare_df,on=['gu','city'],how='outer')"
   ]
  },
  {
   "cell_type": "code",
   "execution_count": 66,
   "metadata": {},
   "outputs": [
    {
     "name": "stdout",
     "output_type": "stream",
     "text": [
      "1222017\n",
      "1222016\n"
     ]
    }
   ],
   "source": [
    "# merge가 제대로 됐는지 확인\n",
    "print(len(final_df))\n",
    "print(len(df_merge))"
   ]
  },
  {
   "cell_type": "code",
   "execution_count": 67,
   "metadata": {},
   "outputs": [
    {
     "data": {
      "text/plain": [
       "transaction_id                 1\n",
       "apartment_id                   1\n",
       "city                           0\n",
       "dong                           1\n",
       "jibun                          1\n",
       "apt                            1\n",
       "addr_kr                        1\n",
       "exclusive_use_area             1\n",
       "year_of_completion             1\n",
       "transaction_year_month         1\n",
       "transaction_date               1\n",
       "floor                          1\n",
       "train_YN                       1\n",
       "year                           1\n",
       "month                          1\n",
       "quarter                        1\n",
       "park_area                      1\n",
       "count                          1\n",
       "park_area_mean                 1\n",
       "gu                             0\n",
       "day_care_baby_num         313238\n",
       "teacher_num               313238\n",
       "nursing_room_num          313238\n",
       "playground_num            313238\n",
       "CCTV_num                  313238\n",
       "is_commuting_vehicle      313238\n",
       "cnt                       313238\n",
       "day_care_mean             313238\n",
       "dtype: int64"
      ]
     },
     "execution_count": 67,
     "metadata": {},
     "output_type": "execute_result"
    }
   ],
   "source": [
    "final_df.isnull().sum() # transaction_id에서 결측값 발생"
   ]
  },
  {
   "cell_type": "code",
   "execution_count": 68,
   "metadata": {},
   "outputs": [],
   "source": [
    "# transaction_id 결측값인 행을 삭제 \n",
    "final_df.drop(final_df.index[final_df.loc[final_df['transaction_id'].isnull()].index],inplace=True)"
   ]
  },
  {
   "cell_type": "code",
   "execution_count": 69,
   "metadata": {},
   "outputs": [
    {
     "data": {
      "text/plain": [
       "transaction_id                 0\n",
       "apartment_id                   0\n",
       "city                           0\n",
       "dong                           0\n",
       "jibun                          0\n",
       "apt                            0\n",
       "addr_kr                        0\n",
       "exclusive_use_area             0\n",
       "year_of_completion             0\n",
       "transaction_year_month         0\n",
       "transaction_date               0\n",
       "floor                          0\n",
       "train_YN                       0\n",
       "year                           0\n",
       "month                          0\n",
       "quarter                        0\n",
       "park_area                      0\n",
       "count                          0\n",
       "park_area_mean                 0\n",
       "gu                             0\n",
       "day_care_baby_num         313238\n",
       "teacher_num               313238\n",
       "nursing_room_num          313238\n",
       "playground_num            313238\n",
       "CCTV_num                  313238\n",
       "is_commuting_vehicle      313238\n",
       "cnt                       313238\n",
       "day_care_mean             313238\n",
       "dtype: int64"
      ]
     },
     "execution_count": 69,
     "metadata": {},
     "output_type": "execute_result"
    }
   ],
   "source": [
    "final_df.isnull().sum() #제거 되었음을 확인"
   ]
  },
  {
   "cell_type": "code",
   "execution_count": 70,
   "metadata": {},
   "outputs": [],
   "source": [
    "# 모든 결측값 0으로 대체 \n",
    "final_df.fillna(0,inplace=True)"
   ]
  },
  {
   "cell_type": "code",
   "execution_count": 71,
   "metadata": {},
   "outputs": [
    {
     "data": {
      "text/html": [
       "<div>\n",
       "<style scoped>\n",
       "    .dataframe tbody tr th:only-of-type {\n",
       "        vertical-align: middle;\n",
       "    }\n",
       "\n",
       "    .dataframe tbody tr th {\n",
       "        vertical-align: top;\n",
       "    }\n",
       "\n",
       "    .dataframe thead th {\n",
       "        text-align: right;\n",
       "    }\n",
       "</style>\n",
       "<table border=\"1\" class=\"dataframe\">\n",
       "  <thead>\n",
       "    <tr style=\"text-align: right;\">\n",
       "      <th></th>\n",
       "      <th>transaction_id</th>\n",
       "      <th>apartment_id</th>\n",
       "      <th>city</th>\n",
       "      <th>dong</th>\n",
       "      <th>jibun</th>\n",
       "      <th>apt</th>\n",
       "      <th>addr_kr</th>\n",
       "      <th>exclusive_use_area</th>\n",
       "      <th>year_of_completion</th>\n",
       "      <th>transaction_year_month</th>\n",
       "      <th>transaction_date</th>\n",
       "      <th>floor</th>\n",
       "      <th>train_YN</th>\n",
       "      <th>year</th>\n",
       "      <th>month</th>\n",
       "      <th>quarter</th>\n",
       "      <th>park_area</th>\n",
       "      <th>count</th>\n",
       "      <th>park_area_mean</th>\n",
       "      <th>gu</th>\n",
       "      <th>day_care_baby_num</th>\n",
       "      <th>teacher_num</th>\n",
       "      <th>nursing_room_num</th>\n",
       "      <th>playground_num</th>\n",
       "      <th>CCTV_num</th>\n",
       "      <th>is_commuting_vehicle</th>\n",
       "      <th>cnt</th>\n",
       "      <th>day_care_mean</th>\n",
       "    </tr>\n",
       "  </thead>\n",
       "  <tbody>\n",
       "    <tr>\n",
       "      <th>0</th>\n",
       "      <td>0.0</td>\n",
       "      <td>7622.0</td>\n",
       "      <td>서울특별시</td>\n",
       "      <td>신교동</td>\n",
       "      <td>6-13</td>\n",
       "      <td>신현(101동)</td>\n",
       "      <td>신교동 6-13 신현(101동)</td>\n",
       "      <td>84.82</td>\n",
       "      <td>2002.0</td>\n",
       "      <td>200801.0</td>\n",
       "      <td>2.0</td>\n",
       "      <td>2.0</td>\n",
       "      <td>1.0</td>\n",
       "      <td>2008.0</td>\n",
       "      <td>1.0</td>\n",
       "      <td>1.0</td>\n",
       "      <td>0.0</td>\n",
       "      <td>0.0</td>\n",
       "      <td>0.0</td>\n",
       "      <td>0</td>\n",
       "      <td>0.0</td>\n",
       "      <td>0.0</td>\n",
       "      <td>0.0</td>\n",
       "      <td>0.0</td>\n",
       "      <td>0.0</td>\n",
       "      <td>0.0</td>\n",
       "      <td>0.0</td>\n",
       "      <td>0.0</td>\n",
       "    </tr>\n",
       "    <tr>\n",
       "      <th>1</th>\n",
       "      <td>98.0</td>\n",
       "      <td>7623.0</td>\n",
       "      <td>서울특별시</td>\n",
       "      <td>신교동</td>\n",
       "      <td>6-11</td>\n",
       "      <td>신현(102동)</td>\n",
       "      <td>신교동 6-11 신현(102동)</td>\n",
       "      <td>84.82</td>\n",
       "      <td>2002.0</td>\n",
       "      <td>200803.0</td>\n",
       "      <td>1.0</td>\n",
       "      <td>2.0</td>\n",
       "      <td>1.0</td>\n",
       "      <td>2008.0</td>\n",
       "      <td>3.0</td>\n",
       "      <td>1.0</td>\n",
       "      <td>0.0</td>\n",
       "      <td>0.0</td>\n",
       "      <td>0.0</td>\n",
       "      <td>0</td>\n",
       "      <td>0.0</td>\n",
       "      <td>0.0</td>\n",
       "      <td>0.0</td>\n",
       "      <td>0.0</td>\n",
       "      <td>0.0</td>\n",
       "      <td>0.0</td>\n",
       "      <td>0.0</td>\n",
       "      <td>0.0</td>\n",
       "    </tr>\n",
       "    <tr>\n",
       "      <th>2</th>\n",
       "      <td>511.0</td>\n",
       "      <td>7622.0</td>\n",
       "      <td>서울특별시</td>\n",
       "      <td>신교동</td>\n",
       "      <td>6-13</td>\n",
       "      <td>신현(101동)</td>\n",
       "      <td>신교동 6-13 신현(101동)</td>\n",
       "      <td>84.82</td>\n",
       "      <td>2002.0</td>\n",
       "      <td>200903.0</td>\n",
       "      <td>2.0</td>\n",
       "      <td>3.0</td>\n",
       "      <td>1.0</td>\n",
       "      <td>2009.0</td>\n",
       "      <td>3.0</td>\n",
       "      <td>1.0</td>\n",
       "      <td>0.0</td>\n",
       "      <td>0.0</td>\n",
       "      <td>0.0</td>\n",
       "      <td>0</td>\n",
       "      <td>0.0</td>\n",
       "      <td>0.0</td>\n",
       "      <td>0.0</td>\n",
       "      <td>0.0</td>\n",
       "      <td>0.0</td>\n",
       "      <td>0.0</td>\n",
       "      <td>0.0</td>\n",
       "      <td>0.0</td>\n",
       "    </tr>\n",
       "    <tr>\n",
       "      <th>3</th>\n",
       "      <td>840.0</td>\n",
       "      <td>7623.0</td>\n",
       "      <td>서울특별시</td>\n",
       "      <td>신교동</td>\n",
       "      <td>6-11</td>\n",
       "      <td>신현(102동)</td>\n",
       "      <td>신교동 6-11 신현(102동)</td>\n",
       "      <td>81.02</td>\n",
       "      <td>2002.0</td>\n",
       "      <td>200909.0</td>\n",
       "      <td>0.0</td>\n",
       "      <td>1.0</td>\n",
       "      <td>1.0</td>\n",
       "      <td>2009.0</td>\n",
       "      <td>9.0</td>\n",
       "      <td>3.0</td>\n",
       "      <td>0.0</td>\n",
       "      <td>0.0</td>\n",
       "      <td>0.0</td>\n",
       "      <td>0</td>\n",
       "      <td>0.0</td>\n",
       "      <td>0.0</td>\n",
       "      <td>0.0</td>\n",
       "      <td>0.0</td>\n",
       "      <td>0.0</td>\n",
       "      <td>0.0</td>\n",
       "      <td>0.0</td>\n",
       "      <td>0.0</td>\n",
       "    </tr>\n",
       "    <tr>\n",
       "      <th>4</th>\n",
       "      <td>1201.0</td>\n",
       "      <td>7623.0</td>\n",
       "      <td>서울특별시</td>\n",
       "      <td>신교동</td>\n",
       "      <td>6-11</td>\n",
       "      <td>신현(102동)</td>\n",
       "      <td>신교동 6-11 신현(102동)</td>\n",
       "      <td>84.82</td>\n",
       "      <td>2002.0</td>\n",
       "      <td>201011.0</td>\n",
       "      <td>2.0</td>\n",
       "      <td>3.0</td>\n",
       "      <td>1.0</td>\n",
       "      <td>2010.0</td>\n",
       "      <td>11.0</td>\n",
       "      <td>4.0</td>\n",
       "      <td>0.0</td>\n",
       "      <td>0.0</td>\n",
       "      <td>0.0</td>\n",
       "      <td>0</td>\n",
       "      <td>0.0</td>\n",
       "      <td>0.0</td>\n",
       "      <td>0.0</td>\n",
       "      <td>0.0</td>\n",
       "      <td>0.0</td>\n",
       "      <td>0.0</td>\n",
       "      <td>0.0</td>\n",
       "      <td>0.0</td>\n",
       "    </tr>\n",
       "  </tbody>\n",
       "</table>\n",
       "</div>"
      ],
      "text/plain": [
       "   transaction_id  apartment_id      ...       cnt day_care_mean\n",
       "0             0.0        7622.0      ...       0.0           0.0\n",
       "1            98.0        7623.0      ...       0.0           0.0\n",
       "2           511.0        7622.0      ...       0.0           0.0\n",
       "3           840.0        7623.0      ...       0.0           0.0\n",
       "4          1201.0        7623.0      ...       0.0           0.0\n",
       "\n",
       "[5 rows x 28 columns]"
      ]
     },
     "execution_count": 71,
     "metadata": {},
     "output_type": "execute_result"
    }
   ],
   "source": [
    "final_df.head()"
   ]
  },
  {
   "cell_type": "code",
   "execution_count": 72,
   "metadata": {},
   "outputs": [],
   "source": [
    "#트레인 셋과 테스트 셋 분리\n",
    "train_df = final_df[final_df['train_YN'] == 1]"
   ]
  },
  {
   "cell_type": "code",
   "execution_count": 73,
   "metadata": {},
   "outputs": [],
   "source": [
    "test_df = final_df[final_df['train_YN'] == 0]"
   ]
  },
  {
   "cell_type": "code",
   "execution_count": 74,
   "metadata": {},
   "outputs": [
    {
     "name": "stdout",
     "output_type": "stream",
     "text": [
      "1222016\n",
      "1222016\n"
     ]
    }
   ],
   "source": [
    "# 제대로 나누어졌는지 길이 확인 \n",
    "print(len(train_df)+len(test_df))\n",
    "print(len(final_df))"
   ]
  },
  {
   "cell_type": "code",
   "execution_count": 75,
   "metadata": {},
   "outputs": [],
   "source": [
    "# 인덱싱 재정의 \n",
    "train_df = train_df.sort_values([\"transaction_id\"], ascending=True)"
   ]
  },
  {
   "cell_type": "code",
   "execution_count": 76,
   "metadata": {},
   "outputs": [],
   "source": [
    "test_df = test_df.sort_values([\"transaction_id\"], ascending=True)"
   ]
  },
  {
   "cell_type": "code",
   "execution_count": 77,
   "metadata": {},
   "outputs": [],
   "source": [
    "train_df.index = range(len(train_df))"
   ]
  },
  {
   "cell_type": "code",
   "execution_count": 78,
   "metadata": {},
   "outputs": [],
   "source": [
    "test_df.index = range(len(test_df))"
   ]
  },
  {
   "cell_type": "code",
   "execution_count": 79,
   "metadata": {},
   "outputs": [],
   "source": []
  },
  {
   "cell_type": "markdown",
   "metadata": {},
   "source": [
    "# Feature engineering"
   ]
  },
  {
   "cell_type": "code",
   "execution_count": 79,
   "metadata": {},
   "outputs": [],
   "source": [
    "train_df = pd.concat([train_df,y],axis=1)"
   ]
  },
  {
   "cell_type": "code",
   "execution_count": 80,
   "metadata": {},
   "outputs": [
    {
     "data": {
      "text/plain": [
       "12582"
      ]
     },
     "execution_count": 80,
     "metadata": {},
     "output_type": "execute_result"
    }
   ],
   "source": [
    "# aprtment_id의 유니크 개수 확인 \n",
    "df['apartment_id'].nunique()"
   ]
  },
  {
   "cell_type": "markdown",
   "metadata": {},
   "source": [
    "### apartment_id를 기준으로 Mean Encoding 순서\n",
    "\n",
    "1. 'apartment_id'를 그룹화하고 아파트마다 예측 변수인 '실제 거래가'의 평균을 구합니다.\n",
    "2. 'apartment_id'를 그룹화하고 같은 아파트가 데이터 셋에 몇개 있는지 카운트 합니다.\n",
    "3. 'transaction_real_price'의 평균을 구합니다.\n",
    "\n",
    "\n",
    "### **mean encoding 기법 **\n",
    "\n",
    "범주형 변수를 기준으로 하여 예측 변수값과 통계적인 연산을 하여 연관성을 만들어 학습이 더욱더 잘되게 해줍니다.\n",
    "저는 아래에 있는 방법을 사용하였습니다.\n",
    "\n",
    "mean encoding 변수  = (해당 아파트 평균 가격 * 해당 아파트 개수 + 아파트 실거래가의 평균) / 해당 아파트 개수"
   ]
  },
  {
   "cell_type": "code",
   "execution_count": 81,
   "metadata": {},
   "outputs": [],
   "source": [
    "train_df = pd.merge(train_df,train_df.groupby(['apartment_id'])['transaction_real_price'].mean().reset_index(name='apt_id_real_price'),on='apartment_id',how='left')"
   ]
  },
  {
   "cell_type": "code",
   "execution_count": 82,
   "metadata": {},
   "outputs": [],
   "source": [
    "train_df = pd.merge(train_df,train_df.groupby(['apartment_id']).size().reset_index(name='apartment_count'),on='apartment_id',how='left')"
   ]
  },
  {
   "cell_type": "code",
   "execution_count": 83,
   "metadata": {},
   "outputs": [],
   "source": [
    "train_df['real_price_mean'] = train_df['transaction_real_price'].mean()"
   ]
  },
  {
   "cell_type": "code",
   "execution_count": 84,
   "metadata": {},
   "outputs": [],
   "source": [
    "train_df['apartment_price_mean'] = ((train_df['apt_id_real_price'] * train_df['apartment_count']) + train_df['real_price_mean']) / train_df['apartment_count']"
   ]
  },
  {
   "cell_type": "code",
   "execution_count": 85,
   "metadata": {},
   "outputs": [],
   "source": [
    "# 테스트 셋에도 mean_encoding 한 변수 추가해주기 \n",
    "test_df = pd.merge(test_df,pd.concat([train_df['apartment_id'],train_df['apartment_price_mean']],axis=1).groupby(['apartment_id']).mean(),on='apartment_id',how='left')"
   ]
  },
  {
   "cell_type": "markdown",
   "metadata": {},
   "source": [
    "#### 추가적으로 아파트의 연식(오래된 정도) 변수 생성"
   ]
  },
  {
   "cell_type": "code",
   "execution_count": 86,
   "metadata": {},
   "outputs": [],
   "source": [
    "train_df['apt_age'] = train_df['year'] - train_df['year_of_completion']\n",
    "test_df['apt_age'] = test_df['year'] - test_df['year_of_completion']"
   ]
  },
  {
   "cell_type": "markdown",
   "metadata": {},
   "source": [
    "#### 부산과 서울을 1,0으로 coding"
   ]
  },
  {
   "cell_type": "code",
   "execution_count": 87,
   "metadata": {},
   "outputs": [],
   "source": [
    "train_df['city']=train_df['city'].map({'서울특별시':1,'부산광역시':0})\n",
    "test_df['city']=test_df['city'].map({'서울특별시':1,'부산광역시':0})"
   ]
  },
  {
   "cell_type": "code",
   "execution_count": 88,
   "metadata": {},
   "outputs": [],
   "source": [
    "# Y값 추출\n",
    "y = train_df['transaction_real_price']"
   ]
  },
  {
   "cell_type": "markdown",
   "metadata": {},
   "source": [
    "## Correlation Check"
   ]
  },
  {
   "cell_type": "code",
   "execution_count": 89,
   "metadata": {},
   "outputs": [
    {
     "data": {
      "text/html": [
       "<div>\n",
       "<style scoped>\n",
       "    .dataframe tbody tr th:only-of-type {\n",
       "        vertical-align: middle;\n",
       "    }\n",
       "\n",
       "    .dataframe tbody tr th {\n",
       "        vertical-align: top;\n",
       "    }\n",
       "\n",
       "    .dataframe thead th {\n",
       "        text-align: right;\n",
       "    }\n",
       "</style>\n",
       "<table border=\"1\" class=\"dataframe\">\n",
       "  <thead>\n",
       "    <tr style=\"text-align: right;\">\n",
       "      <th></th>\n",
       "      <th>exclusive_use_area</th>\n",
       "      <th>transaction_real_price</th>\n",
       "    </tr>\n",
       "  </thead>\n",
       "  <tbody>\n",
       "    <tr>\n",
       "      <th>exclusive_use_area</th>\n",
       "      <td>1.000000</td>\n",
       "      <td>0.561563</td>\n",
       "    </tr>\n",
       "    <tr>\n",
       "      <th>transaction_real_price</th>\n",
       "      <td>0.561563</td>\n",
       "      <td>1.000000</td>\n",
       "    </tr>\n",
       "  </tbody>\n",
       "</table>\n",
       "</div>"
      ],
      "text/plain": [
       "                        exclusive_use_area  transaction_real_price\n",
       "exclusive_use_area                1.000000                0.561563\n",
       "transaction_real_price            0.561563                1.000000"
      ]
     },
     "execution_count": 89,
     "metadata": {},
     "output_type": "execute_result"
    }
   ],
   "source": [
    "# 실거래가와 전용면적\n",
    "pd.concat([train_df['exclusive_use_area'],y], axis= 1).corr()"
   ]
  },
  {
   "cell_type": "code",
   "execution_count": 90,
   "metadata": {},
   "outputs": [
    {
     "data": {
      "text/html": [
       "<div>\n",
       "<style scoped>\n",
       "    .dataframe tbody tr th:only-of-type {\n",
       "        vertical-align: middle;\n",
       "    }\n",
       "\n",
       "    .dataframe tbody tr th {\n",
       "        vertical-align: top;\n",
       "    }\n",
       "\n",
       "    .dataframe thead th {\n",
       "        text-align: right;\n",
       "    }\n",
       "</style>\n",
       "<table border=\"1\" class=\"dataframe\">\n",
       "  <thead>\n",
       "    <tr style=\"text-align: right;\">\n",
       "      <th></th>\n",
       "      <th>transaction_real_price</th>\n",
       "      <th>year_of_completion</th>\n",
       "    </tr>\n",
       "  </thead>\n",
       "  <tbody>\n",
       "    <tr>\n",
       "      <th>transaction_real_price</th>\n",
       "      <td>1.000000</td>\n",
       "      <td>0.052656</td>\n",
       "    </tr>\n",
       "    <tr>\n",
       "      <th>year_of_completion</th>\n",
       "      <td>0.052656</td>\n",
       "      <td>1.000000</td>\n",
       "    </tr>\n",
       "  </tbody>\n",
       "</table>\n",
       "</div>"
      ],
      "text/plain": [
       "                        transaction_real_price  year_of_completion\n",
       "transaction_real_price                1.000000            0.052656\n",
       "year_of_completion                    0.052656            1.000000"
      ]
     },
     "execution_count": 90,
     "metadata": {},
     "output_type": "execute_result"
    }
   ],
   "source": [
    "# 실거래가와 아파트설립일자\n",
    "pd.concat([y,train_df['year_of_completion']], axis= 1).corr()"
   ]
  },
  {
   "cell_type": "code",
   "execution_count": 91,
   "metadata": {},
   "outputs": [
    {
     "data": {
      "text/html": [
       "<div>\n",
       "<style scoped>\n",
       "    .dataframe tbody tr th:only-of-type {\n",
       "        vertical-align: middle;\n",
       "    }\n",
       "\n",
       "    .dataframe tbody tr th {\n",
       "        vertical-align: top;\n",
       "    }\n",
       "\n",
       "    .dataframe thead th {\n",
       "        text-align: right;\n",
       "    }\n",
       "</style>\n",
       "<table border=\"1\" class=\"dataframe\">\n",
       "  <thead>\n",
       "    <tr style=\"text-align: right;\">\n",
       "      <th></th>\n",
       "      <th>transaction_real_price</th>\n",
       "      <th>city</th>\n",
       "    </tr>\n",
       "  </thead>\n",
       "  <tbody>\n",
       "    <tr>\n",
       "      <th>transaction_real_price</th>\n",
       "      <td>1.000000</td>\n",
       "      <td>0.440886</td>\n",
       "    </tr>\n",
       "    <tr>\n",
       "      <th>city</th>\n",
       "      <td>0.440886</td>\n",
       "      <td>1.000000</td>\n",
       "    </tr>\n",
       "  </tbody>\n",
       "</table>\n",
       "</div>"
      ],
      "text/plain": [
       "                        transaction_real_price      city\n",
       "transaction_real_price                1.000000  0.440886\n",
       "city                                  0.440886  1.000000"
      ]
     },
     "execution_count": 91,
     "metadata": {},
     "output_type": "execute_result"
    }
   ],
   "source": [
    "# 실거래가와 도시\n",
    "pd.concat([y,train_df['city']], axis= 1).corr()"
   ]
  },
  {
   "cell_type": "code",
   "execution_count": 92,
   "metadata": {},
   "outputs": [
    {
     "data": {
      "text/html": [
       "<div>\n",
       "<style scoped>\n",
       "    .dataframe tbody tr th:only-of-type {\n",
       "        vertical-align: middle;\n",
       "    }\n",
       "\n",
       "    .dataframe tbody tr th {\n",
       "        vertical-align: top;\n",
       "    }\n",
       "\n",
       "    .dataframe thead th {\n",
       "        text-align: right;\n",
       "    }\n",
       "</style>\n",
       "<table border=\"1\" class=\"dataframe\">\n",
       "  <thead>\n",
       "    <tr style=\"text-align: right;\">\n",
       "      <th></th>\n",
       "      <th>transaction_real_price</th>\n",
       "      <th>transaction_date</th>\n",
       "    </tr>\n",
       "  </thead>\n",
       "  <tbody>\n",
       "    <tr>\n",
       "      <th>transaction_real_price</th>\n",
       "      <td>1.00000</td>\n",
       "      <td>0.01275</td>\n",
       "    </tr>\n",
       "    <tr>\n",
       "      <th>transaction_date</th>\n",
       "      <td>0.01275</td>\n",
       "      <td>1.00000</td>\n",
       "    </tr>\n",
       "  </tbody>\n",
       "</table>\n",
       "</div>"
      ],
      "text/plain": [
       "                        transaction_real_price  transaction_date\n",
       "transaction_real_price                 1.00000           0.01275\n",
       "transaction_date                       0.01275           1.00000"
      ]
     },
     "execution_count": 92,
     "metadata": {},
     "output_type": "execute_result"
    }
   ],
   "source": [
    "# 실거래가와 거래일자(시기)\n",
    "pd.concat([y,train_df['transaction_date']], axis= 1).corr()"
   ]
  },
  {
   "cell_type": "code",
   "execution_count": 93,
   "metadata": {},
   "outputs": [
    {
     "data": {
      "text/html": [
       "<div>\n",
       "<style scoped>\n",
       "    .dataframe tbody tr th:only-of-type {\n",
       "        vertical-align: middle;\n",
       "    }\n",
       "\n",
       "    .dataframe tbody tr th {\n",
       "        vertical-align: top;\n",
       "    }\n",
       "\n",
       "    .dataframe thead th {\n",
       "        text-align: right;\n",
       "    }\n",
       "</style>\n",
       "<table border=\"1\" class=\"dataframe\">\n",
       "  <thead>\n",
       "    <tr style=\"text-align: right;\">\n",
       "      <th></th>\n",
       "      <th>transaction_real_price</th>\n",
       "      <th>floor</th>\n",
       "    </tr>\n",
       "  </thead>\n",
       "  <tbody>\n",
       "    <tr>\n",
       "      <th>transaction_real_price</th>\n",
       "      <td>1.000000</td>\n",
       "      <td>0.112278</td>\n",
       "    </tr>\n",
       "    <tr>\n",
       "      <th>floor</th>\n",
       "      <td>0.112278</td>\n",
       "      <td>1.000000</td>\n",
       "    </tr>\n",
       "  </tbody>\n",
       "</table>\n",
       "</div>"
      ],
      "text/plain": [
       "                        transaction_real_price     floor\n",
       "transaction_real_price                1.000000  0.112278\n",
       "floor                                 0.112278  1.000000"
      ]
     },
     "execution_count": 93,
     "metadata": {},
     "output_type": "execute_result"
    }
   ],
   "source": [
    "# 실거래가와 층수\n",
    "pd.concat([y,train_df['floor']], axis= 1).corr()"
   ]
  },
  {
   "cell_type": "code",
   "execution_count": 94,
   "metadata": {},
   "outputs": [
    {
     "data": {
      "text/html": [
       "<div>\n",
       "<style scoped>\n",
       "    .dataframe tbody tr th:only-of-type {\n",
       "        vertical-align: middle;\n",
       "    }\n",
       "\n",
       "    .dataframe tbody tr th {\n",
       "        vertical-align: top;\n",
       "    }\n",
       "\n",
       "    .dataframe thead th {\n",
       "        text-align: right;\n",
       "    }\n",
       "</style>\n",
       "<table border=\"1\" class=\"dataframe\">\n",
       "  <thead>\n",
       "    <tr style=\"text-align: right;\">\n",
       "      <th></th>\n",
       "      <th>transaction_real_price</th>\n",
       "      <th>year</th>\n",
       "    </tr>\n",
       "  </thead>\n",
       "  <tbody>\n",
       "    <tr>\n",
       "      <th>transaction_real_price</th>\n",
       "      <td>1.000000</td>\n",
       "      <td>0.183714</td>\n",
       "    </tr>\n",
       "    <tr>\n",
       "      <th>year</th>\n",
       "      <td>0.183714</td>\n",
       "      <td>1.000000</td>\n",
       "    </tr>\n",
       "  </tbody>\n",
       "</table>\n",
       "</div>"
      ],
      "text/plain": [
       "                        transaction_real_price      year\n",
       "transaction_real_price                1.000000  0.183714\n",
       "year                                  0.183714  1.000000"
      ]
     },
     "execution_count": 94,
     "metadata": {},
     "output_type": "execute_result"
    }
   ],
   "source": [
    "# 실거래가와 거래년도\n",
    "pd.concat([y,train_df['year']], axis= 1).corr()"
   ]
  },
  {
   "cell_type": "code",
   "execution_count": 95,
   "metadata": {},
   "outputs": [
    {
     "data": {
      "text/html": [
       "<div>\n",
       "<style scoped>\n",
       "    .dataframe tbody tr th:only-of-type {\n",
       "        vertical-align: middle;\n",
       "    }\n",
       "\n",
       "    .dataframe tbody tr th {\n",
       "        vertical-align: top;\n",
       "    }\n",
       "\n",
       "    .dataframe thead th {\n",
       "        text-align: right;\n",
       "    }\n",
       "</style>\n",
       "<table border=\"1\" class=\"dataframe\">\n",
       "  <thead>\n",
       "    <tr style=\"text-align: right;\">\n",
       "      <th></th>\n",
       "      <th>transaction_real_price</th>\n",
       "      <th>month</th>\n",
       "    </tr>\n",
       "  </thead>\n",
       "  <tbody>\n",
       "    <tr>\n",
       "      <th>transaction_real_price</th>\n",
       "      <td>1.000000</td>\n",
       "      <td>0.022886</td>\n",
       "    </tr>\n",
       "    <tr>\n",
       "      <th>month</th>\n",
       "      <td>0.022886</td>\n",
       "      <td>1.000000</td>\n",
       "    </tr>\n",
       "  </tbody>\n",
       "</table>\n",
       "</div>"
      ],
      "text/plain": [
       "                        transaction_real_price     month\n",
       "transaction_real_price                1.000000  0.022886\n",
       "month                                 0.022886  1.000000"
      ]
     },
     "execution_count": 95,
     "metadata": {},
     "output_type": "execute_result"
    }
   ],
   "source": [
    "# 실거래가와 거래월\n",
    "pd.concat([y,train_df['month']], axis= 1).corr()"
   ]
  },
  {
   "cell_type": "code",
   "execution_count": 96,
   "metadata": {},
   "outputs": [
    {
     "data": {
      "text/html": [
       "<div>\n",
       "<style scoped>\n",
       "    .dataframe tbody tr th:only-of-type {\n",
       "        vertical-align: middle;\n",
       "    }\n",
       "\n",
       "    .dataframe tbody tr th {\n",
       "        vertical-align: top;\n",
       "    }\n",
       "\n",
       "    .dataframe thead th {\n",
       "        text-align: right;\n",
       "    }\n",
       "</style>\n",
       "<table border=\"1\" class=\"dataframe\">\n",
       "  <thead>\n",
       "    <tr style=\"text-align: right;\">\n",
       "      <th></th>\n",
       "      <th>transaction_real_price</th>\n",
       "      <th>quarter</th>\n",
       "    </tr>\n",
       "  </thead>\n",
       "  <tbody>\n",
       "    <tr>\n",
       "      <th>transaction_real_price</th>\n",
       "      <td>1.000000</td>\n",
       "      <td>0.024443</td>\n",
       "    </tr>\n",
       "    <tr>\n",
       "      <th>quarter</th>\n",
       "      <td>0.024443</td>\n",
       "      <td>1.000000</td>\n",
       "    </tr>\n",
       "  </tbody>\n",
       "</table>\n",
       "</div>"
      ],
      "text/plain": [
       "                        transaction_real_price   quarter\n",
       "transaction_real_price                1.000000  0.024443\n",
       "quarter                               0.024443  1.000000"
      ]
     },
     "execution_count": 96,
     "metadata": {},
     "output_type": "execute_result"
    }
   ],
   "source": [
    "# 실거래가와 해당분기\n",
    "pd.concat([y,train_df['quarter']], axis= 1).corr()"
   ]
  },
  {
   "cell_type": "code",
   "execution_count": 97,
   "metadata": {},
   "outputs": [
    {
     "data": {
      "text/html": [
       "<div>\n",
       "<style scoped>\n",
       "    .dataframe tbody tr th:only-of-type {\n",
       "        vertical-align: middle;\n",
       "    }\n",
       "\n",
       "    .dataframe tbody tr th {\n",
       "        vertical-align: top;\n",
       "    }\n",
       "\n",
       "    .dataframe thead th {\n",
       "        text-align: right;\n",
       "    }\n",
       "</style>\n",
       "<table border=\"1\" class=\"dataframe\">\n",
       "  <thead>\n",
       "    <tr style=\"text-align: right;\">\n",
       "      <th></th>\n",
       "      <th>transaction_real_price</th>\n",
       "      <th>park_area</th>\n",
       "    </tr>\n",
       "  </thead>\n",
       "  <tbody>\n",
       "    <tr>\n",
       "      <th>transaction_real_price</th>\n",
       "      <td>1.000000</td>\n",
       "      <td>-0.066412</td>\n",
       "    </tr>\n",
       "    <tr>\n",
       "      <th>park_area</th>\n",
       "      <td>-0.066412</td>\n",
       "      <td>1.000000</td>\n",
       "    </tr>\n",
       "  </tbody>\n",
       "</table>\n",
       "</div>"
      ],
      "text/plain": [
       "                        transaction_real_price  park_area\n",
       "transaction_real_price                1.000000  -0.066412\n",
       "park_area                            -0.066412   1.000000"
      ]
     },
     "execution_count": 97,
     "metadata": {},
     "output_type": "execute_result"
    }
   ],
   "source": [
    "# 실거래가와 아파트가 위치하고 있는 동의 공원부지 넓이\n",
    "pd.concat([y,train_df['park_area']], axis= 1).corr()"
   ]
  },
  {
   "cell_type": "code",
   "execution_count": 98,
   "metadata": {},
   "outputs": [
    {
     "data": {
      "text/html": [
       "<div>\n",
       "<style scoped>\n",
       "    .dataframe tbody tr th:only-of-type {\n",
       "        vertical-align: middle;\n",
       "    }\n",
       "\n",
       "    .dataframe tbody tr th {\n",
       "        vertical-align: top;\n",
       "    }\n",
       "\n",
       "    .dataframe thead th {\n",
       "        text-align: right;\n",
       "    }\n",
       "</style>\n",
       "<table border=\"1\" class=\"dataframe\">\n",
       "  <thead>\n",
       "    <tr style=\"text-align: right;\">\n",
       "      <th></th>\n",
       "      <th>transaction_real_price</th>\n",
       "      <th>count</th>\n",
       "    </tr>\n",
       "  </thead>\n",
       "  <tbody>\n",
       "    <tr>\n",
       "      <th>transaction_real_price</th>\n",
       "      <td>1.000000</td>\n",
       "      <td>0.074861</td>\n",
       "    </tr>\n",
       "    <tr>\n",
       "      <th>count</th>\n",
       "      <td>0.074861</td>\n",
       "      <td>1.000000</td>\n",
       "    </tr>\n",
       "  </tbody>\n",
       "</table>\n",
       "</div>"
      ],
      "text/plain": [
       "                        transaction_real_price     count\n",
       "transaction_real_price                1.000000  0.074861\n",
       "count                                 0.074861  1.000000"
      ]
     },
     "execution_count": 98,
     "metadata": {},
     "output_type": "execute_result"
    }
   ],
   "source": [
    "# 실거래가와 아파트가 위치하고 있는 동의 공원개수 \n",
    "pd.concat([y,train_df['count']], axis= 1).corr()"
   ]
  },
  {
   "cell_type": "code",
   "execution_count": 99,
   "metadata": {},
   "outputs": [
    {
     "data": {
      "text/html": [
       "<div>\n",
       "<style scoped>\n",
       "    .dataframe tbody tr th:only-of-type {\n",
       "        vertical-align: middle;\n",
       "    }\n",
       "\n",
       "    .dataframe tbody tr th {\n",
       "        vertical-align: top;\n",
       "    }\n",
       "\n",
       "    .dataframe thead th {\n",
       "        text-align: right;\n",
       "    }\n",
       "</style>\n",
       "<table border=\"1\" class=\"dataframe\">\n",
       "  <thead>\n",
       "    <tr style=\"text-align: right;\">\n",
       "      <th></th>\n",
       "      <th>transaction_real_price</th>\n",
       "      <th>park_area_mean</th>\n",
       "    </tr>\n",
       "  </thead>\n",
       "  <tbody>\n",
       "    <tr>\n",
       "      <th>transaction_real_price</th>\n",
       "      <td>1.000000</td>\n",
       "      <td>-0.065479</td>\n",
       "    </tr>\n",
       "    <tr>\n",
       "      <th>park_area_mean</th>\n",
       "      <td>-0.065479</td>\n",
       "      <td>1.000000</td>\n",
       "    </tr>\n",
       "  </tbody>\n",
       "</table>\n",
       "</div>"
      ],
      "text/plain": [
       "                        transaction_real_price  park_area_mean\n",
       "transaction_real_price                1.000000       -0.065479\n",
       "park_area_mean                       -0.065479        1.000000"
      ]
     },
     "execution_count": 99,
     "metadata": {},
     "output_type": "execute_result"
    }
   ],
   "source": [
    "# 실거래가와 아파트가 위치하고 있는 동에서 공원당 평균 면적\n",
    "pd.concat([y,train_df['park_area_mean']], axis= 1).corr()"
   ]
  },
  {
   "cell_type": "code",
   "execution_count": 100,
   "metadata": {},
   "outputs": [
    {
     "data": {
      "text/html": [
       "<div>\n",
       "<style scoped>\n",
       "    .dataframe tbody tr th:only-of-type {\n",
       "        vertical-align: middle;\n",
       "    }\n",
       "\n",
       "    .dataframe tbody tr th {\n",
       "        vertical-align: top;\n",
       "    }\n",
       "\n",
       "    .dataframe thead th {\n",
       "        text-align: right;\n",
       "    }\n",
       "</style>\n",
       "<table border=\"1\" class=\"dataframe\">\n",
       "  <thead>\n",
       "    <tr style=\"text-align: right;\">\n",
       "      <th></th>\n",
       "      <th>transaction_real_price</th>\n",
       "      <th>day_care_baby_num</th>\n",
       "    </tr>\n",
       "  </thead>\n",
       "  <tbody>\n",
       "    <tr>\n",
       "      <th>transaction_real_price</th>\n",
       "      <td>1.000000</td>\n",
       "      <td>0.102403</td>\n",
       "    </tr>\n",
       "    <tr>\n",
       "      <th>day_care_baby_num</th>\n",
       "      <td>0.102403</td>\n",
       "      <td>1.000000</td>\n",
       "    </tr>\n",
       "  </tbody>\n",
       "</table>\n",
       "</div>"
      ],
      "text/plain": [
       "                        transaction_real_price  day_care_baby_num\n",
       "transaction_real_price                1.000000           0.102403\n",
       "day_care_baby_num                     0.102403           1.000000"
      ]
     },
     "execution_count": 100,
     "metadata": {},
     "output_type": "execute_result"
    }
   ],
   "source": [
    "# 실거래가와 아파트가 위치하고 있는 해당 구의 어린이 집 총 정원 수\n",
    "pd.concat([y,train_df['day_care_baby_num']], axis= 1).corr()"
   ]
  },
  {
   "cell_type": "code",
   "execution_count": 101,
   "metadata": {},
   "outputs": [
    {
     "data": {
      "text/html": [
       "<div>\n",
       "<style scoped>\n",
       "    .dataframe tbody tr th:only-of-type {\n",
       "        vertical-align: middle;\n",
       "    }\n",
       "\n",
       "    .dataframe tbody tr th {\n",
       "        vertical-align: top;\n",
       "    }\n",
       "\n",
       "    .dataframe thead th {\n",
       "        text-align: right;\n",
       "    }\n",
       "</style>\n",
       "<table border=\"1\" class=\"dataframe\">\n",
       "  <thead>\n",
       "    <tr style=\"text-align: right;\">\n",
       "      <th></th>\n",
       "      <th>transaction_real_price</th>\n",
       "      <th>teacher_num</th>\n",
       "    </tr>\n",
       "  </thead>\n",
       "  <tbody>\n",
       "    <tr>\n",
       "      <th>transaction_real_price</th>\n",
       "      <td>1.000</td>\n",
       "      <td>0.018</td>\n",
       "    </tr>\n",
       "    <tr>\n",
       "      <th>teacher_num</th>\n",
       "      <td>0.018</td>\n",
       "      <td>1.000</td>\n",
       "    </tr>\n",
       "  </tbody>\n",
       "</table>\n",
       "</div>"
      ],
      "text/plain": [
       "                        transaction_real_price  teacher_num\n",
       "transaction_real_price                   1.000        0.018\n",
       "teacher_num                              0.018        1.000"
      ]
     },
     "execution_count": 101,
     "metadata": {},
     "output_type": "execute_result"
    }
   ],
   "source": [
    "# 실거래가와 아파트가 위치하고 있는 해당 구의 어린이집 보육교직원 수\n",
    "pd.concat([y,train_df['teacher_num']], axis= 1).corr()"
   ]
  },
  {
   "cell_type": "code",
   "execution_count": 102,
   "metadata": {},
   "outputs": [
    {
     "data": {
      "text/html": [
       "<div>\n",
       "<style scoped>\n",
       "    .dataframe tbody tr th:only-of-type {\n",
       "        vertical-align: middle;\n",
       "    }\n",
       "\n",
       "    .dataframe tbody tr th {\n",
       "        vertical-align: top;\n",
       "    }\n",
       "\n",
       "    .dataframe thead th {\n",
       "        text-align: right;\n",
       "    }\n",
       "</style>\n",
       "<table border=\"1\" class=\"dataframe\">\n",
       "  <thead>\n",
       "    <tr style=\"text-align: right;\">\n",
       "      <th></th>\n",
       "      <th>transaction_real_price</th>\n",
       "      <th>nursing_room_num</th>\n",
       "    </tr>\n",
       "  </thead>\n",
       "  <tbody>\n",
       "    <tr>\n",
       "      <th>transaction_real_price</th>\n",
       "      <td>1.000000</td>\n",
       "      <td>-0.234696</td>\n",
       "    </tr>\n",
       "    <tr>\n",
       "      <th>nursing_room_num</th>\n",
       "      <td>-0.234696</td>\n",
       "      <td>1.000000</td>\n",
       "    </tr>\n",
       "  </tbody>\n",
       "</table>\n",
       "</div>"
      ],
      "text/plain": [
       "                        transaction_real_price  nursing_room_num\n",
       "transaction_real_price                1.000000         -0.234696\n",
       "nursing_room_num                     -0.234696          1.000000"
      ]
     },
     "execution_count": 102,
     "metadata": {},
     "output_type": "execute_result"
    }
   ],
   "source": [
    "# 실거래가와 아파트가 위치하고 있는 해당 구의 어린이집 보육실 수\n",
    "pd.concat([y,train_df['nursing_room_num']], axis= 1).corr()"
   ]
  },
  {
   "cell_type": "code",
   "execution_count": 103,
   "metadata": {},
   "outputs": [
    {
     "data": {
      "text/html": [
       "<div>\n",
       "<style scoped>\n",
       "    .dataframe tbody tr th:only-of-type {\n",
       "        vertical-align: middle;\n",
       "    }\n",
       "\n",
       "    .dataframe tbody tr th {\n",
       "        vertical-align: top;\n",
       "    }\n",
       "\n",
       "    .dataframe thead th {\n",
       "        text-align: right;\n",
       "    }\n",
       "</style>\n",
       "<table border=\"1\" class=\"dataframe\">\n",
       "  <thead>\n",
       "    <tr style=\"text-align: right;\">\n",
       "      <th></th>\n",
       "      <th>transaction_real_price</th>\n",
       "      <th>playground_num</th>\n",
       "    </tr>\n",
       "  </thead>\n",
       "  <tbody>\n",
       "    <tr>\n",
       "      <th>transaction_real_price</th>\n",
       "      <td>1.000000</td>\n",
       "      <td>-0.228897</td>\n",
       "    </tr>\n",
       "    <tr>\n",
       "      <th>playground_num</th>\n",
       "      <td>-0.228897</td>\n",
       "      <td>1.000000</td>\n",
       "    </tr>\n",
       "  </tbody>\n",
       "</table>\n",
       "</div>"
      ],
      "text/plain": [
       "                        transaction_real_price  playground_num\n",
       "transaction_real_price                1.000000       -0.228897\n",
       "playground_num                       -0.228897        1.000000"
      ]
     },
     "execution_count": 103,
     "metadata": {},
     "output_type": "execute_result"
    }
   ],
   "source": [
    "# 실거래가와 아파트가 위치하고 있는 해당 구의 어린이집 놀이터 수 \n",
    "pd.concat([y,train_df['playground_num']], axis= 1).corr()"
   ]
  },
  {
   "cell_type": "code",
   "execution_count": 104,
   "metadata": {},
   "outputs": [
    {
     "data": {
      "text/html": [
       "<div>\n",
       "<style scoped>\n",
       "    .dataframe tbody tr th:only-of-type {\n",
       "        vertical-align: middle;\n",
       "    }\n",
       "\n",
       "    .dataframe tbody tr th {\n",
       "        vertical-align: top;\n",
       "    }\n",
       "\n",
       "    .dataframe thead th {\n",
       "        text-align: right;\n",
       "    }\n",
       "</style>\n",
       "<table border=\"1\" class=\"dataframe\">\n",
       "  <thead>\n",
       "    <tr style=\"text-align: right;\">\n",
       "      <th></th>\n",
       "      <th>transaction_real_price</th>\n",
       "      <th>CCTV_num</th>\n",
       "    </tr>\n",
       "  </thead>\n",
       "  <tbody>\n",
       "    <tr>\n",
       "      <th>transaction_real_price</th>\n",
       "      <td>1.000000</td>\n",
       "      <td>-0.042957</td>\n",
       "    </tr>\n",
       "    <tr>\n",
       "      <th>CCTV_num</th>\n",
       "      <td>-0.042957</td>\n",
       "      <td>1.000000</td>\n",
       "    </tr>\n",
       "  </tbody>\n",
       "</table>\n",
       "</div>"
      ],
      "text/plain": [
       "                        transaction_real_price  CCTV_num\n",
       "transaction_real_price                1.000000 -0.042957\n",
       "CCTV_num                             -0.042957  1.000000"
      ]
     },
     "execution_count": 104,
     "metadata": {},
     "output_type": "execute_result"
    }
   ],
   "source": [
    "# 실거래가와 아파트가 위치하고 있는 해당 구의 어린이집 CCTV 설치 수 \n",
    "pd.concat([y,train_df['CCTV_num']], axis= 1).corr()"
   ]
  },
  {
   "cell_type": "code",
   "execution_count": 105,
   "metadata": {},
   "outputs": [
    {
     "data": {
      "text/html": [
       "<div>\n",
       "<style scoped>\n",
       "    .dataframe tbody tr th:only-of-type {\n",
       "        vertical-align: middle;\n",
       "    }\n",
       "\n",
       "    .dataframe tbody tr th {\n",
       "        vertical-align: top;\n",
       "    }\n",
       "\n",
       "    .dataframe thead th {\n",
       "        text-align: right;\n",
       "    }\n",
       "</style>\n",
       "<table border=\"1\" class=\"dataframe\">\n",
       "  <thead>\n",
       "    <tr style=\"text-align: right;\">\n",
       "      <th></th>\n",
       "      <th>transaction_real_price</th>\n",
       "      <th>is_commuting_vehicle</th>\n",
       "    </tr>\n",
       "  </thead>\n",
       "  <tbody>\n",
       "    <tr>\n",
       "      <th>transaction_real_price</th>\n",
       "      <td>1.000000</td>\n",
       "      <td>-0.293391</td>\n",
       "    </tr>\n",
       "    <tr>\n",
       "      <th>is_commuting_vehicle</th>\n",
       "      <td>-0.293391</td>\n",
       "      <td>1.000000</td>\n",
       "    </tr>\n",
       "  </tbody>\n",
       "</table>\n",
       "</div>"
      ],
      "text/plain": [
       "                        transaction_real_price  is_commuting_vehicle\n",
       "transaction_real_price                1.000000             -0.293391\n",
       "is_commuting_vehicle                 -0.293391              1.000000"
      ]
     },
     "execution_count": 105,
     "metadata": {},
     "output_type": "execute_result"
    }
   ],
   "source": [
    "# 실거래가와 아파트가 위치하고 있는 해당 구의 어린이집 통학차량 수 \n",
    "pd.concat([y,train_df['is_commuting_vehicle']], axis= 1).corr()"
   ]
  },
  {
   "cell_type": "code",
   "execution_count": 106,
   "metadata": {},
   "outputs": [
    {
     "data": {
      "text/html": [
       "<div>\n",
       "<style scoped>\n",
       "    .dataframe tbody tr th:only-of-type {\n",
       "        vertical-align: middle;\n",
       "    }\n",
       "\n",
       "    .dataframe tbody tr th {\n",
       "        vertical-align: top;\n",
       "    }\n",
       "\n",
       "    .dataframe thead th {\n",
       "        text-align: right;\n",
       "    }\n",
       "</style>\n",
       "<table border=\"1\" class=\"dataframe\">\n",
       "  <thead>\n",
       "    <tr style=\"text-align: right;\">\n",
       "      <th></th>\n",
       "      <th>transaction_real_price</th>\n",
       "      <th>cnt</th>\n",
       "    </tr>\n",
       "  </thead>\n",
       "  <tbody>\n",
       "    <tr>\n",
       "      <th>transaction_real_price</th>\n",
       "      <td>1.000000</td>\n",
       "      <td>0.070308</td>\n",
       "    </tr>\n",
       "    <tr>\n",
       "      <th>cnt</th>\n",
       "      <td>0.070308</td>\n",
       "      <td>1.000000</td>\n",
       "    </tr>\n",
       "  </tbody>\n",
       "</table>\n",
       "</div>"
      ],
      "text/plain": [
       "                        transaction_real_price       cnt\n",
       "transaction_real_price                1.000000  0.070308\n",
       "cnt                                   0.070308  1.000000"
      ]
     },
     "execution_count": 106,
     "metadata": {},
     "output_type": "execute_result"
    }
   ],
   "source": [
    "# 실거래가와 아파트가 위치하고 있는 해당 구의 어린이집 수\n",
    "pd.concat([y,train_df['cnt']], axis= 1).corr()"
   ]
  },
  {
   "cell_type": "code",
   "execution_count": 107,
   "metadata": {},
   "outputs": [
    {
     "data": {
      "text/html": [
       "<div>\n",
       "<style scoped>\n",
       "    .dataframe tbody tr th:only-of-type {\n",
       "        vertical-align: middle;\n",
       "    }\n",
       "\n",
       "    .dataframe tbody tr th {\n",
       "        vertical-align: top;\n",
       "    }\n",
       "\n",
       "    .dataframe thead th {\n",
       "        text-align: right;\n",
       "    }\n",
       "</style>\n",
       "<table border=\"1\" class=\"dataframe\">\n",
       "  <thead>\n",
       "    <tr style=\"text-align: right;\">\n",
       "      <th></th>\n",
       "      <th>transaction_real_price</th>\n",
       "      <th>day_care_mean</th>\n",
       "    </tr>\n",
       "  </thead>\n",
       "  <tbody>\n",
       "    <tr>\n",
       "      <th>transaction_real_price</th>\n",
       "      <td>1.000000</td>\n",
       "      <td>-0.001029</td>\n",
       "    </tr>\n",
       "    <tr>\n",
       "      <th>day_care_mean</th>\n",
       "      <td>-0.001029</td>\n",
       "      <td>1.000000</td>\n",
       "    </tr>\n",
       "  </tbody>\n",
       "</table>\n",
       "</div>"
      ],
      "text/plain": [
       "                        transaction_real_price  day_care_mean\n",
       "transaction_real_price                1.000000      -0.001029\n",
       "day_care_mean                        -0.001029       1.000000"
      ]
     },
     "execution_count": 107,
     "metadata": {},
     "output_type": "execute_result"
    }
   ],
   "source": [
    "# 실거래가와 아파트가 위치하고 있는 해당 구의 어린이집 평균 정원 수 \n",
    "pd.concat([y,train_df['day_care_mean']], axis= 1).corr()"
   ]
  },
  {
   "cell_type": "code",
   "execution_count": 108,
   "metadata": {},
   "outputs": [],
   "source": []
  },
  {
   "cell_type": "code",
   "execution_count": 108,
   "metadata": {},
   "outputs": [],
   "source": [
    "# 모델링 하기에 앞서 불필요한 컬럼 제거\n",
    "train_df = train_df.drop(columns=['transaction_id', 'apartment_id','dong', 'jibun', 'apt',\n",
    "       'addr_kr', 'transaction_year_month', 'train_YN', 'park_area_mean',\n",
    "       'gu', 'day_care_mean', 'transaction_real_price', 'apartment_count',\n",
    "       'apt_id_real_price', 'real_price_mean'])"
   ]
  },
  {
   "cell_type": "code",
   "execution_count": 109,
   "metadata": {},
   "outputs": [],
   "source": [
    "# 서브미션 파일과 merge를 위해 테스트 셋에서  transaction_id 추출\n",
    "transaction_id = test_df['transaction_id']"
   ]
  },
  {
   "cell_type": "code",
   "execution_count": 110,
   "metadata": {},
   "outputs": [],
   "source": [
    "test_df = test_df.drop(columns=['transaction_id', 'apartment_id', 'dong', 'jibun', 'apt',\n",
    "       'addr_kr', 'transaction_year_month', 'train_YN', 'park_area_mean',\n",
    "       'gu', 'day_care_mean'])"
   ]
  },
  {
   "cell_type": "code",
   "execution_count": 111,
   "metadata": {},
   "outputs": [
    {
     "data": {
      "text/plain": [
       "city                    0\n",
       "exclusive_use_area      0\n",
       "year_of_completion      0\n",
       "transaction_date        0\n",
       "floor                   0\n",
       "year                    0\n",
       "month                   0\n",
       "quarter                 0\n",
       "park_area               0\n",
       "count                   0\n",
       "day_care_baby_num       0\n",
       "teacher_num             0\n",
       "nursing_room_num        0\n",
       "playground_num          0\n",
       "CCTV_num                0\n",
       "is_commuting_vehicle    0\n",
       "cnt                     0\n",
       "apartment_price_mean    0\n",
       "apt_age                 0\n",
       "dtype: int64"
      ]
     },
     "execution_count": 111,
     "metadata": {},
     "output_type": "execute_result"
    }
   ],
   "source": [
    "# 결측값 확인\n",
    "train_df.isnull().sum()"
   ]
  },
  {
   "cell_type": "code",
   "execution_count": 112,
   "metadata": {},
   "outputs": [
    {
     "data": {
      "text/plain": [
       "city                      0\n",
       "exclusive_use_area        0\n",
       "year_of_completion        0\n",
       "transaction_date          0\n",
       "floor                     0\n",
       "year                      0\n",
       "month                     0\n",
       "quarter                   0\n",
       "park_area                 0\n",
       "count                     0\n",
       "day_care_baby_num         0\n",
       "teacher_num               0\n",
       "nursing_room_num          0\n",
       "playground_num            0\n",
       "CCTV_num                  0\n",
       "is_commuting_vehicle      0\n",
       "cnt                       0\n",
       "apartment_price_mean    136\n",
       "apt_age                   0\n",
       "dtype: int64"
      ]
     },
     "execution_count": 112,
     "metadata": {},
     "output_type": "execute_result"
    }
   ],
   "source": [
    "test_df.isnull().sum()"
   ]
  },
  {
   "cell_type": "code",
   "execution_count": 113,
   "metadata": {},
   "outputs": [],
   "source": [
    "# 트레인셋에는 있고 테스트셋에는 없는 apartment_id는 0으로 대체\n",
    "test_df.fillna(0,inplace=True)"
   ]
  },
  {
   "cell_type": "code",
   "execution_count": 114,
   "metadata": {},
   "outputs": [],
   "source": []
  },
  {
   "cell_type": "markdown",
   "metadata": {},
   "source": [
    "# Modeling"
   ]
  },
  {
   "cell_type": "markdown",
   "metadata": {},
   "source": [
    "### Random Forest"
   ]
  },
  {
   "cell_type": "code",
   "execution_count": 114,
   "metadata": {},
   "outputs": [],
   "source": [
    "X_forest = train_df"
   ]
  },
  {
   "cell_type": "code",
   "execution_count": 115,
   "metadata": {},
   "outputs": [],
   "source": [
    "CrossV_forest = pd.concat([X_forest,y],axis=1)"
   ]
  },
  {
   "cell_type": "code",
   "execution_count": 116,
   "metadata": {},
   "outputs": [],
   "source": [
    "forest_CV = pd.DataFrame(np.zeros(len(test_df)*5).reshape(len(test_df),-1), columns = ['first','second','third','fourth','fifth'])"
   ]
  },
  {
   "cell_type": "code",
   "execution_count": 117,
   "metadata": {},
   "outputs": [
    {
     "name": "stderr",
     "output_type": "stream",
     "text": [
      "/opt/conda/lib/python3.6/site-packages/pandas/core/indexes/base.py:2095: FutureWarning: Using a non-tuple sequence for multidimensional indexing is deprecated; use `arr[tuple(seq)]` instead of `arr[seq]`. In the future this will be interpreted as an array index, `arr[np.array(seq)]`, which will result either in an error or a different result.\n",
      "  result = getitem(key)\n",
      "/opt/conda/lib/python3.6/site-packages/pandas/core/indexes/base.py:2095: FutureWarning: Using a non-tuple sequence for multidimensional indexing is deprecated; use `arr[tuple(seq)]` instead of `arr[seq]`. In the future this will be interpreted as an array index, `arr[np.array(seq)]`, which will result either in an error or a different result.\n",
      "  result = getitem(key)\n",
      "/opt/conda/lib/python3.6/site-packages/pandas/core/indexes/base.py:2095: FutureWarning: Using a non-tuple sequence for multidimensional indexing is deprecated; use `arr[tuple(seq)]` instead of `arr[seq]`. In the future this will be interpreted as an array index, `arr[np.array(seq)]`, which will result either in an error or a different result.\n",
      "  result = getitem(key)\n",
      "/opt/conda/lib/python3.6/site-packages/pandas/core/indexes/base.py:2095: FutureWarning: Using a non-tuple sequence for multidimensional indexing is deprecated; use `arr[tuple(seq)]` instead of `arr[seq]`. In the future this will be interpreted as an array index, `arr[np.array(seq)]`, which will result either in an error or a different result.\n",
      "  result = getitem(key)\n",
      "/opt/conda/lib/python3.6/site-packages/pandas/core/indexes/base.py:2095: FutureWarning: Using a non-tuple sequence for multidimensional indexing is deprecated; use `arr[tuple(seq)]` instead of `arr[seq]`. In the future this will be interpreted as an array index, `arr[np.array(seq)]`, which will result either in an error or a different result.\n",
      "  result = getitem(key)\n"
     ]
    }
   ],
   "source": [
    "cv = KFold(5, shuffle=True, random_state=2019) # K-fold = 5 로 진행\n",
    "for i, (idx_train, idx_test) in enumerate(cv.split(CrossV_forest)):\n",
    "    forest_train = CrossV_forest.iloc[idx_train]\n",
    "    forest_test = CrossV_forest.iloc[idx_test]\n",
    "        \n",
    "    regressor = RandomForestRegressor(random_state=2019,n_estimators=20) # n_estimator = 20으로 설정 \n",
    "    result = regressor.fit(forest_train[forest_train.columns[[range(19)]]],forest_train['transaction_real_price']) # 모델 학습\n",
    "    y_pred_forest = regressor.predict(test_df) # 테스트 파일 넣어서 예측값 산출\n",
    "    \n",
    "    forest_CV[forest_CV.columns[i]] = y_pred_forest # 5번의 예측값 평균내기 위해 데이터 프레임 각각 컬럼에 할당"
   ]
  },
  {
   "cell_type": "code",
   "execution_count": 118,
   "metadata": {},
   "outputs": [
    {
     "data": {
      "text/html": [
       "<div>\n",
       "<style scoped>\n",
       "    .dataframe tbody tr th:only-of-type {\n",
       "        vertical-align: middle;\n",
       "    }\n",
       "\n",
       "    .dataframe tbody tr th {\n",
       "        vertical-align: top;\n",
       "    }\n",
       "\n",
       "    .dataframe thead th {\n",
       "        text-align: right;\n",
       "    }\n",
       "</style>\n",
       "<table border=\"1\" class=\"dataframe\">\n",
       "  <thead>\n",
       "    <tr style=\"text-align: right;\">\n",
       "      <th></th>\n",
       "      <th>first</th>\n",
       "      <th>second</th>\n",
       "      <th>third</th>\n",
       "      <th>fourth</th>\n",
       "      <th>fifth</th>\n",
       "    </tr>\n",
       "  </thead>\n",
       "  <tbody>\n",
       "    <tr>\n",
       "      <th>0</th>\n",
       "      <td>37080.0</td>\n",
       "      <td>36892.5</td>\n",
       "      <td>32430.0</td>\n",
       "      <td>35365.0</td>\n",
       "      <td>35065.00</td>\n",
       "    </tr>\n",
       "    <tr>\n",
       "      <th>1</th>\n",
       "      <td>29252.5</td>\n",
       "      <td>30167.5</td>\n",
       "      <td>32450.0</td>\n",
       "      <td>34115.0</td>\n",
       "      <td>30285.00</td>\n",
       "    </tr>\n",
       "    <tr>\n",
       "      <th>2</th>\n",
       "      <td>36805.0</td>\n",
       "      <td>36387.5</td>\n",
       "      <td>38310.0</td>\n",
       "      <td>33825.0</td>\n",
       "      <td>35282.50</td>\n",
       "    </tr>\n",
       "    <tr>\n",
       "      <th>3</th>\n",
       "      <td>37320.0</td>\n",
       "      <td>36360.0</td>\n",
       "      <td>38530.0</td>\n",
       "      <td>34835.0</td>\n",
       "      <td>35462.50</td>\n",
       "    </tr>\n",
       "    <tr>\n",
       "      <th>4</th>\n",
       "      <td>25900.0</td>\n",
       "      <td>26957.5</td>\n",
       "      <td>27505.0</td>\n",
       "      <td>26197.5</td>\n",
       "      <td>26203.75</td>\n",
       "    </tr>\n",
       "  </tbody>\n",
       "</table>\n",
       "</div>"
      ],
      "text/plain": [
       "     first   second    third   fourth     fifth\n",
       "0  37080.0  36892.5  32430.0  35365.0  35065.00\n",
       "1  29252.5  30167.5  32450.0  34115.0  30285.00\n",
       "2  36805.0  36387.5  38310.0  33825.0  35282.50\n",
       "3  37320.0  36360.0  38530.0  34835.0  35462.50\n",
       "4  25900.0  26957.5  27505.0  26197.5  26203.75"
      ]
     },
     "execution_count": 118,
     "metadata": {},
     "output_type": "execute_result"
    }
   ],
   "source": [
    "forest_CV.head()"
   ]
  },
  {
   "cell_type": "code",
   "execution_count": 119,
   "metadata": {},
   "outputs": [],
   "source": [
    "# 5개의 예측값 평균 산출\n",
    "forest_CV['mean'] = forest_CV.sum(axis=1)/5"
   ]
  },
  {
   "cell_type": "code",
   "execution_count": 120,
   "metadata": {},
   "outputs": [],
   "source": [
    "# submission 파일과합치기위해 transaction_id 를 concat\n",
    "id_join_forest = pd.concat([forest_CV,transaction_id],axis=1)"
   ]
  },
  {
   "cell_type": "code",
   "execution_count": 121,
   "metadata": {},
   "outputs": [
    {
     "data": {
      "text/html": [
       "<div>\n",
       "<style scoped>\n",
       "    .dataframe tbody tr th:only-of-type {\n",
       "        vertical-align: middle;\n",
       "    }\n",
       "\n",
       "    .dataframe tbody tr th {\n",
       "        vertical-align: top;\n",
       "    }\n",
       "\n",
       "    .dataframe thead th {\n",
       "        text-align: right;\n",
       "    }\n",
       "</style>\n",
       "<table border=\"1\" class=\"dataframe\">\n",
       "  <thead>\n",
       "    <tr style=\"text-align: right;\">\n",
       "      <th></th>\n",
       "      <th>first</th>\n",
       "      <th>second</th>\n",
       "      <th>third</th>\n",
       "      <th>fourth</th>\n",
       "      <th>fifth</th>\n",
       "      <th>mean</th>\n",
       "      <th>transaction_id</th>\n",
       "    </tr>\n",
       "  </thead>\n",
       "  <tbody>\n",
       "    <tr>\n",
       "      <th>0</th>\n",
       "      <td>37080.0</td>\n",
       "      <td>36892.5</td>\n",
       "      <td>32430.0</td>\n",
       "      <td>35365.0</td>\n",
       "      <td>35065.00</td>\n",
       "      <td>35366.50</td>\n",
       "      <td>1092791.0</td>\n",
       "    </tr>\n",
       "    <tr>\n",
       "      <th>1</th>\n",
       "      <td>29252.5</td>\n",
       "      <td>30167.5</td>\n",
       "      <td>32450.0</td>\n",
       "      <td>34115.0</td>\n",
       "      <td>30285.00</td>\n",
       "      <td>31254.00</td>\n",
       "      <td>1092885.0</td>\n",
       "    </tr>\n",
       "    <tr>\n",
       "      <th>2</th>\n",
       "      <td>36805.0</td>\n",
       "      <td>36387.5</td>\n",
       "      <td>38310.0</td>\n",
       "      <td>33825.0</td>\n",
       "      <td>35282.50</td>\n",
       "      <td>36122.00</td>\n",
       "      <td>1092916.0</td>\n",
       "    </tr>\n",
       "    <tr>\n",
       "      <th>3</th>\n",
       "      <td>37320.0</td>\n",
       "      <td>36360.0</td>\n",
       "      <td>38530.0</td>\n",
       "      <td>34835.0</td>\n",
       "      <td>35462.50</td>\n",
       "      <td>36501.50</td>\n",
       "      <td>1092919.0</td>\n",
       "    </tr>\n",
       "    <tr>\n",
       "      <th>4</th>\n",
       "      <td>25900.0</td>\n",
       "      <td>26957.5</td>\n",
       "      <td>27505.0</td>\n",
       "      <td>26197.5</td>\n",
       "      <td>26203.75</td>\n",
       "      <td>26552.75</td>\n",
       "      <td>1092937.0</td>\n",
       "    </tr>\n",
       "  </tbody>\n",
       "</table>\n",
       "</div>"
      ],
      "text/plain": [
       "     first   second    third       ...           fifth      mean  transaction_id\n",
       "0  37080.0  36892.5  32430.0       ...        35065.00  35366.50       1092791.0\n",
       "1  29252.5  30167.5  32450.0       ...        30285.00  31254.00       1092885.0\n",
       "2  36805.0  36387.5  38310.0       ...        35282.50  36122.00       1092916.0\n",
       "3  37320.0  36360.0  38530.0       ...        35462.50  36501.50       1092919.0\n",
       "4  25900.0  26957.5  27505.0       ...        26203.75  26552.75       1092937.0\n",
       "\n",
       "[5 rows x 7 columns]"
      ]
     },
     "execution_count": 121,
     "metadata": {},
     "output_type": "execute_result"
    }
   ],
   "source": [
    "id_join_forest.head()"
   ]
  },
  {
   "cell_type": "code",
   "execution_count": 122,
   "metadata": {},
   "outputs": [],
   "source": [
    "# submission dataset 로딩\n",
    "submission = pd.read_csv(\"../input/dacon-apartment-price-prediction/submission.csv\")"
   ]
  },
  {
   "cell_type": "code",
   "execution_count": 123,
   "metadata": {},
   "outputs": [],
   "source": [
    "# submission set과 RF(random forest) 결과물과 transaction_id로 merge\n",
    "final_forest = pd.merge(submission,id_join_forest,on='transaction_id',how='left')"
   ]
  },
  {
   "cell_type": "code",
   "execution_count": 124,
   "metadata": {},
   "outputs": [
    {
     "data": {
      "text/html": [
       "<div>\n",
       "<style scoped>\n",
       "    .dataframe tbody tr th:only-of-type {\n",
       "        vertical-align: middle;\n",
       "    }\n",
       "\n",
       "    .dataframe tbody tr th {\n",
       "        vertical-align: top;\n",
       "    }\n",
       "\n",
       "    .dataframe thead th {\n",
       "        text-align: right;\n",
       "    }\n",
       "</style>\n",
       "<table border=\"1\" class=\"dataframe\">\n",
       "  <thead>\n",
       "    <tr style=\"text-align: right;\">\n",
       "      <th></th>\n",
       "      <th>transaction_id</th>\n",
       "      <th>transaction_real_price</th>\n",
       "      <th>first</th>\n",
       "      <th>second</th>\n",
       "      <th>third</th>\n",
       "      <th>fourth</th>\n",
       "      <th>fifth</th>\n",
       "      <th>mean</th>\n",
       "    </tr>\n",
       "  </thead>\n",
       "  <tbody>\n",
       "    <tr>\n",
       "      <th>0</th>\n",
       "      <td>1145756</td>\n",
       "      <td>0</td>\n",
       "      <td>25265.0</td>\n",
       "      <td>31465.0</td>\n",
       "      <td>31685.0</td>\n",
       "      <td>31402.50</td>\n",
       "      <td>31305.0</td>\n",
       "      <td>30224.50</td>\n",
       "    </tr>\n",
       "    <tr>\n",
       "      <th>1</th>\n",
       "      <td>1198704</td>\n",
       "      <td>0</td>\n",
       "      <td>13065.0</td>\n",
       "      <td>12635.0</td>\n",
       "      <td>14067.5</td>\n",
       "      <td>13582.75</td>\n",
       "      <td>13040.0</td>\n",
       "      <td>13278.05</td>\n",
       "    </tr>\n",
       "    <tr>\n",
       "      <th>2</th>\n",
       "      <td>1222384</td>\n",
       "      <td>0</td>\n",
       "      <td>11787.5</td>\n",
       "      <td>12395.0</td>\n",
       "      <td>11692.5</td>\n",
       "      <td>12190.00</td>\n",
       "      <td>11747.5</td>\n",
       "      <td>11962.50</td>\n",
       "    </tr>\n",
       "    <tr>\n",
       "      <th>3</th>\n",
       "      <td>1179897</td>\n",
       "      <td>0</td>\n",
       "      <td>100575.0</td>\n",
       "      <td>106225.0</td>\n",
       "      <td>106860.0</td>\n",
       "      <td>115555.00</td>\n",
       "      <td>115445.0</td>\n",
       "      <td>108932.00</td>\n",
       "    </tr>\n",
       "    <tr>\n",
       "      <th>4</th>\n",
       "      <td>1223091</td>\n",
       "      <td>0</td>\n",
       "      <td>46378.7</td>\n",
       "      <td>46875.0</td>\n",
       "      <td>46867.5</td>\n",
       "      <td>46605.00</td>\n",
       "      <td>45922.5</td>\n",
       "      <td>46529.74</td>\n",
       "    </tr>\n",
       "  </tbody>\n",
       "</table>\n",
       "</div>"
      ],
      "text/plain": [
       "   transaction_id  transaction_real_price    ...         fifth       mean\n",
       "0         1145756                       0    ...       31305.0   30224.50\n",
       "1         1198704                       0    ...       13040.0   13278.05\n",
       "2         1222384                       0    ...       11747.5   11962.50\n",
       "3         1179897                       0    ...      115445.0  108932.00\n",
       "4         1223091                       0    ...       45922.5   46529.74\n",
       "\n",
       "[5 rows x 8 columns]"
      ]
     },
     "execution_count": 124,
     "metadata": {},
     "output_type": "execute_result"
    }
   ],
   "source": [
    "final_forest.head()"
   ]
  },
  {
   "cell_type": "code",
   "execution_count": 125,
   "metadata": {},
   "outputs": [],
   "source": [
    "# 예측값 5개의 mean 값을 transaction_real_price로 할당\n",
    "final_forest['transaction_real_price'] = final_forest['mean']"
   ]
  },
  {
   "cell_type": "code",
   "execution_count": 126,
   "metadata": {},
   "outputs": [],
   "source": [
    "# RF모델로 transaction_id별 예측값 산출\n",
    "final_real_forest = final_forest[['transaction_id','transaction_real_price']]"
   ]
  },
  {
   "cell_type": "code",
   "execution_count": 127,
   "metadata": {},
   "outputs": [
    {
     "data": {
      "text/html": [
       "<div>\n",
       "<style scoped>\n",
       "    .dataframe tbody tr th:only-of-type {\n",
       "        vertical-align: middle;\n",
       "    }\n",
       "\n",
       "    .dataframe tbody tr th {\n",
       "        vertical-align: top;\n",
       "    }\n",
       "\n",
       "    .dataframe thead th {\n",
       "        text-align: right;\n",
       "    }\n",
       "</style>\n",
       "<table border=\"1\" class=\"dataframe\">\n",
       "  <thead>\n",
       "    <tr style=\"text-align: right;\">\n",
       "      <th></th>\n",
       "      <th>transaction_id</th>\n",
       "      <th>transaction_real_price</th>\n",
       "    </tr>\n",
       "  </thead>\n",
       "  <tbody>\n",
       "    <tr>\n",
       "      <th>0</th>\n",
       "      <td>1145756</td>\n",
       "      <td>30224.50</td>\n",
       "    </tr>\n",
       "    <tr>\n",
       "      <th>1</th>\n",
       "      <td>1198704</td>\n",
       "      <td>13278.05</td>\n",
       "    </tr>\n",
       "    <tr>\n",
       "      <th>2</th>\n",
       "      <td>1222384</td>\n",
       "      <td>11962.50</td>\n",
       "    </tr>\n",
       "    <tr>\n",
       "      <th>3</th>\n",
       "      <td>1179897</td>\n",
       "      <td>108932.00</td>\n",
       "    </tr>\n",
       "    <tr>\n",
       "      <th>4</th>\n",
       "      <td>1223091</td>\n",
       "      <td>46529.74</td>\n",
       "    </tr>\n",
       "  </tbody>\n",
       "</table>\n",
       "</div>"
      ],
      "text/plain": [
       "   transaction_id  transaction_real_price\n",
       "0         1145756                30224.50\n",
       "1         1198704                13278.05\n",
       "2         1222384                11962.50\n",
       "3         1179897               108932.00\n",
       "4         1223091                46529.74"
      ]
     },
     "execution_count": 127,
     "metadata": {},
     "output_type": "execute_result"
    }
   ],
   "source": [
    "final_real_forest.head()"
   ]
  },
  {
   "cell_type": "code",
   "execution_count": 128,
   "metadata": {},
   "outputs": [],
   "source": []
  },
  {
   "cell_type": "markdown",
   "metadata": {},
   "source": [
    "### Light GBM "
   ]
  },
  {
   "cell_type": "code",
   "execution_count": 128,
   "metadata": {},
   "outputs": [
    {
     "data": {
      "text/html": [
       "<div>\n",
       "<style scoped>\n",
       "    .dataframe tbody tr th:only-of-type {\n",
       "        vertical-align: middle;\n",
       "    }\n",
       "\n",
       "    .dataframe tbody tr th {\n",
       "        vertical-align: top;\n",
       "    }\n",
       "\n",
       "    .dataframe thead th {\n",
       "        text-align: right;\n",
       "    }\n",
       "</style>\n",
       "<table border=\"1\" class=\"dataframe\">\n",
       "  <thead>\n",
       "    <tr style=\"text-align: right;\">\n",
       "      <th></th>\n",
       "      <th>city</th>\n",
       "      <th>exclusive_use_area</th>\n",
       "      <th>year_of_completion</th>\n",
       "      <th>transaction_date</th>\n",
       "      <th>floor</th>\n",
       "      <th>year</th>\n",
       "      <th>month</th>\n",
       "      <th>quarter</th>\n",
       "      <th>park_area</th>\n",
       "      <th>count</th>\n",
       "      <th>day_care_baby_num</th>\n",
       "      <th>teacher_num</th>\n",
       "      <th>nursing_room_num</th>\n",
       "      <th>playground_num</th>\n",
       "      <th>CCTV_num</th>\n",
       "      <th>is_commuting_vehicle</th>\n",
       "      <th>cnt</th>\n",
       "      <th>apartment_price_mean</th>\n",
       "      <th>apt_age</th>\n",
       "    </tr>\n",
       "  </thead>\n",
       "  <tbody>\n",
       "    <tr>\n",
       "      <th>0</th>\n",
       "      <td>1</td>\n",
       "      <td>84.82</td>\n",
       "      <td>2002.0</td>\n",
       "      <td>2.0</td>\n",
       "      <td>2.0</td>\n",
       "      <td>2008.0</td>\n",
       "      <td>1.0</td>\n",
       "      <td>1.0</td>\n",
       "      <td>0.0</td>\n",
       "      <td>0.0</td>\n",
       "      <td>0.0</td>\n",
       "      <td>0.0</td>\n",
       "      <td>0.0</td>\n",
       "      <td>0.0</td>\n",
       "      <td>0.0</td>\n",
       "      <td>0.0</td>\n",
       "      <td>0.0</td>\n",
       "      <td>53685.538620</td>\n",
       "      <td>6.0</td>\n",
       "    </tr>\n",
       "    <tr>\n",
       "      <th>1</th>\n",
       "      <td>1</td>\n",
       "      <td>99.17</td>\n",
       "      <td>1973.0</td>\n",
       "      <td>0.0</td>\n",
       "      <td>6.0</td>\n",
       "      <td>2008.0</td>\n",
       "      <td>1.0</td>\n",
       "      <td>1.0</td>\n",
       "      <td>0.0</td>\n",
       "      <td>0.0</td>\n",
       "      <td>0.0</td>\n",
       "      <td>0.0</td>\n",
       "      <td>0.0</td>\n",
       "      <td>0.0</td>\n",
       "      <td>0.0</td>\n",
       "      <td>0.0</td>\n",
       "      <td>0.0</td>\n",
       "      <td>58227.693100</td>\n",
       "      <td>35.0</td>\n",
       "    </tr>\n",
       "    <tr>\n",
       "      <th>2</th>\n",
       "      <td>1</td>\n",
       "      <td>84.74</td>\n",
       "      <td>2007.0</td>\n",
       "      <td>0.0</td>\n",
       "      <td>6.0</td>\n",
       "      <td>2008.0</td>\n",
       "      <td>1.0</td>\n",
       "      <td>1.0</td>\n",
       "      <td>0.0</td>\n",
       "      <td>0.0</td>\n",
       "      <td>0.0</td>\n",
       "      <td>0.0</td>\n",
       "      <td>0.0</td>\n",
       "      <td>0.0</td>\n",
       "      <td>0.0</td>\n",
       "      <td>0.0</td>\n",
       "      <td>0.0</td>\n",
       "      <td>56225.207162</td>\n",
       "      <td>1.0</td>\n",
       "    </tr>\n",
       "    <tr>\n",
       "      <th>3</th>\n",
       "      <td>1</td>\n",
       "      <td>146.39</td>\n",
       "      <td>2003.0</td>\n",
       "      <td>1.0</td>\n",
       "      <td>15.0</td>\n",
       "      <td>2008.0</td>\n",
       "      <td>1.0</td>\n",
       "      <td>1.0</td>\n",
       "      <td>0.0</td>\n",
       "      <td>0.0</td>\n",
       "      <td>0.0</td>\n",
       "      <td>0.0</td>\n",
       "      <td>0.0</td>\n",
       "      <td>0.0</td>\n",
       "      <td>0.0</td>\n",
       "      <td>0.0</td>\n",
       "      <td>0.0</td>\n",
       "      <td>107829.594420</td>\n",
       "      <td>5.0</td>\n",
       "    </tr>\n",
       "    <tr>\n",
       "      <th>4</th>\n",
       "      <td>1</td>\n",
       "      <td>194.43</td>\n",
       "      <td>2004.0</td>\n",
       "      <td>2.0</td>\n",
       "      <td>3.0</td>\n",
       "      <td>2008.0</td>\n",
       "      <td>1.0</td>\n",
       "      <td>1.0</td>\n",
       "      <td>0.0</td>\n",
       "      <td>0.0</td>\n",
       "      <td>0.0</td>\n",
       "      <td>0.0</td>\n",
       "      <td>0.0</td>\n",
       "      <td>0.0</td>\n",
       "      <td>0.0</td>\n",
       "      <td>0.0</td>\n",
       "      <td>0.0</td>\n",
       "      <td>117395.179540</td>\n",
       "      <td>4.0</td>\n",
       "    </tr>\n",
       "  </tbody>\n",
       "</table>\n",
       "</div>"
      ],
      "text/plain": [
       "   city  exclusive_use_area   ...     apartment_price_mean  apt_age\n",
       "0     1               84.82   ...             53685.538620      6.0\n",
       "1     1               99.17   ...             58227.693100     35.0\n",
       "2     1               84.74   ...             56225.207162      1.0\n",
       "3     1              146.39   ...            107829.594420      5.0\n",
       "4     1              194.43   ...            117395.179540      4.0\n",
       "\n",
       "[5 rows x 19 columns]"
      ]
     },
     "execution_count": 128,
     "metadata": {},
     "output_type": "execute_result"
    }
   ],
   "source": [
    "X = train_df\n",
    "X.head()"
   ]
  },
  {
   "cell_type": "code",
   "execution_count": 129,
   "metadata": {},
   "outputs": [],
   "source": [
    "CrossV_lgbm = pd.concat([X,y],axis=1)"
   ]
  },
  {
   "cell_type": "code",
   "execution_count": 130,
   "metadata": {},
   "outputs": [],
   "source": [
    "# 파라미터 값 지정\n",
    "parameters = {\n",
    "    'objective': 'regression_l2', \n",
    "    'metric': 'rmse', #loss 측정기준\n",
    "    'is_unbalance': 'false',\n",
    "    'boosting': 'gbdt', #gbdt(gradient boosting decision tree) 사용\n",
    "    'num_leaves': 50,\n",
    "    'feature_fraction': 0.5,\n",
    "    'bagging_fraction': 0.8, \n",
    "    'bagging_freq': 40,\n",
    "    'learning_rate': 0.05,\n",
    "    'min_data' : 500,\n",
    "    'verbose': 1\n",
    "}"
   ]
  },
  {
   "cell_type": "code",
   "execution_count": 131,
   "metadata": {},
   "outputs": [
    {
     "name": "stderr",
     "output_type": "stream",
     "text": [
      "/opt/conda/lib/python3.6/site-packages/pandas/core/indexes/base.py:2095: FutureWarning: Using a non-tuple sequence for multidimensional indexing is deprecated; use `arr[tuple(seq)]` instead of `arr[seq]`. In the future this will be interpreted as an array index, `arr[np.array(seq)]`, which will result either in an error or a different result.\n",
      "  result = getitem(key)\n"
     ]
    },
    {
     "name": "stdout",
     "output_type": "stream",
     "text": [
      "Training until validation scores don't improve for 100 rounds.\n",
      "[200]\tvalid_0's rmse: 6133.18\n",
      "[400]\tvalid_0's rmse: 5523.37\n",
      "[600]\tvalid_0's rmse: 5227.26\n",
      "[800]\tvalid_0's rmse: 5054.79\n",
      "[1000]\tvalid_0's rmse: 4926.61\n",
      "[1200]\tvalid_0's rmse: 4832\n",
      "[1400]\tvalid_0's rmse: 4748.58\n",
      "[1600]\tvalid_0's rmse: 4677.36\n",
      "[1800]\tvalid_0's rmse: 4627.03\n",
      "[2000]\tvalid_0's rmse: 4571.35\n",
      "[2200]\tvalid_0's rmse: 4525.52\n",
      "[2400]\tvalid_0's rmse: 4486.73\n",
      "[2600]\tvalid_0's rmse: 4450.45\n",
      "[2800]\tvalid_0's rmse: 4420.22\n",
      "[3000]\tvalid_0's rmse: 4389.57\n",
      "[3200]\tvalid_0's rmse: 4360.97\n",
      "[3400]\tvalid_0's rmse: 4340.56\n",
      "[3600]\tvalid_0's rmse: 4317.06\n",
      "[3800]\tvalid_0's rmse: 4291.57\n",
      "[4000]\tvalid_0's rmse: 4272.94\n",
      "[4200]\tvalid_0's rmse: 4253.65\n",
      "[4400]\tvalid_0's rmse: 4232.67\n",
      "[4600]\tvalid_0's rmse: 4217.36\n",
      "[4800]\tvalid_0's rmse: 4198.85\n",
      "[5000]\tvalid_0's rmse: 4184.31\n",
      "[5200]\tvalid_0's rmse: 4170.29\n",
      "[5400]\tvalid_0's rmse: 4161.94\n",
      "[5600]\tvalid_0's rmse: 4152.01\n",
      "[5800]\tvalid_0's rmse: 4141.2\n",
      "[6000]\tvalid_0's rmse: 4132.53\n",
      "[6200]\tvalid_0's rmse: 4121.13\n",
      "[6400]\tvalid_0's rmse: 4112.75\n",
      "[6600]\tvalid_0's rmse: 4102.35\n",
      "[6800]\tvalid_0's rmse: 4095.41\n",
      "[7000]\tvalid_0's rmse: 4082.19\n",
      "Did not meet early stopping. Best iteration is:\n",
      "[7000]\tvalid_0's rmse: 4082.19\n",
      "Training until validation scores don't improve for 100 rounds.\n",
      "[200]\tvalid_0's rmse: 6351.98\n",
      "[400]\tvalid_0's rmse: 5742.2\n",
      "[600]\tvalid_0's rmse: 5456.9\n",
      "[800]\tvalid_0's rmse: 5271.84\n",
      "[1000]\tvalid_0's rmse: 5137.76\n",
      "[1200]\tvalid_0's rmse: 5041.16\n",
      "[1400]\tvalid_0's rmse: 4958.13\n",
      "[1600]\tvalid_0's rmse: 4885.08\n",
      "[1800]\tvalid_0's rmse: 4824.83\n",
      "[2000]\tvalid_0's rmse: 4776.74\n",
      "[2200]\tvalid_0's rmse: 4727.86\n",
      "[2400]\tvalid_0's rmse: 4687.7\n",
      "[2600]\tvalid_0's rmse: 4654.67\n",
      "[2800]\tvalid_0's rmse: 4623.88\n",
      "[3000]\tvalid_0's rmse: 4593.31\n",
      "[3200]\tvalid_0's rmse: 4568.65\n",
      "[3400]\tvalid_0's rmse: 4545.02\n",
      "[3600]\tvalid_0's rmse: 4521.12\n",
      "[3800]\tvalid_0's rmse: 4500\n",
      "[4000]\tvalid_0's rmse: 4481.3\n",
      "[4200]\tvalid_0's rmse: 4460.46\n",
      "[4400]\tvalid_0's rmse: 4445.73\n",
      "[4600]\tvalid_0's rmse: 4428.55\n",
      "[4800]\tvalid_0's rmse: 4415.45\n",
      "[5000]\tvalid_0's rmse: 4401.83\n",
      "[5200]\tvalid_0's rmse: 4385.31\n",
      "[5400]\tvalid_0's rmse: 4372.38\n",
      "[5600]\tvalid_0's rmse: 4361.82\n",
      "[5800]\tvalid_0's rmse: 4349.84\n",
      "[6000]\tvalid_0's rmse: 4338.6\n",
      "[6200]\tvalid_0's rmse: 4329.45\n",
      "[6400]\tvalid_0's rmse: 4321.66\n",
      "[6600]\tvalid_0's rmse: 4309.48\n",
      "[6800]\tvalid_0's rmse: 4301.44\n",
      "[7000]\tvalid_0's rmse: 4291.9\n",
      "Did not meet early stopping. Best iteration is:\n",
      "[7000]\tvalid_0's rmse: 4291.9\n",
      "Training until validation scores don't improve for 100 rounds.\n",
      "[200]\tvalid_0's rmse: 6318.45\n",
      "[400]\tvalid_0's rmse: 5687.98\n",
      "[600]\tvalid_0's rmse: 5369.02\n",
      "[800]\tvalid_0's rmse: 5187.68\n",
      "[1000]\tvalid_0's rmse: 5049.83\n",
      "[1200]\tvalid_0's rmse: 4941.05\n",
      "[1400]\tvalid_0's rmse: 4851.45\n",
      "[1600]\tvalid_0's rmse: 4776.75\n",
      "[1800]\tvalid_0's rmse: 4720.49\n",
      "[2000]\tvalid_0's rmse: 4665.68\n",
      "[2200]\tvalid_0's rmse: 4619.14\n",
      "[2400]\tvalid_0's rmse: 4577.46\n",
      "[2600]\tvalid_0's rmse: 4540.51\n",
      "[2800]\tvalid_0's rmse: 4507.93\n",
      "[3000]\tvalid_0's rmse: 4480.43\n",
      "[3200]\tvalid_0's rmse: 4451.25\n",
      "[3400]\tvalid_0's rmse: 4425.91\n",
      "[3600]\tvalid_0's rmse: 4403.68\n",
      "[3800]\tvalid_0's rmse: 4380.44\n",
      "[4000]\tvalid_0's rmse: 4362.64\n",
      "[4200]\tvalid_0's rmse: 4341.32\n",
      "[4400]\tvalid_0's rmse: 4324.25\n",
      "[4600]\tvalid_0's rmse: 4303.94\n",
      "[4800]\tvalid_0's rmse: 4289.34\n",
      "[5000]\tvalid_0's rmse: 4273.5\n",
      "[5200]\tvalid_0's rmse: 4259.81\n",
      "[5400]\tvalid_0's rmse: 4248.81\n",
      "[5600]\tvalid_0's rmse: 4233.7\n",
      "[5800]\tvalid_0's rmse: 4224.02\n",
      "[6000]\tvalid_0's rmse: 4211.29\n",
      "[6200]\tvalid_0's rmse: 4202.18\n",
      "[6400]\tvalid_0's rmse: 4192.11\n",
      "[6600]\tvalid_0's rmse: 4181.12\n",
      "[6800]\tvalid_0's rmse: 4173.17\n",
      "[7000]\tvalid_0's rmse: 4164.13\n",
      "Did not meet early stopping. Best iteration is:\n",
      "[6999]\tvalid_0's rmse: 4164.12\n",
      "Training until validation scores don't improve for 100 rounds.\n",
      "[200]\tvalid_0's rmse: 6269.22\n",
      "[400]\tvalid_0's rmse: 5660.53\n",
      "[600]\tvalid_0's rmse: 5363.39\n",
      "[800]\tvalid_0's rmse: 5191.63\n",
      "[1000]\tvalid_0's rmse: 5050.39\n",
      "[1200]\tvalid_0's rmse: 4949.59\n",
      "[1400]\tvalid_0's rmse: 4860.97\n",
      "[1600]\tvalid_0's rmse: 4793.7\n",
      "[1800]\tvalid_0's rmse: 4738.18\n",
      "[2000]\tvalid_0's rmse: 4679.96\n",
      "[2200]\tvalid_0's rmse: 4634.34\n",
      "[2400]\tvalid_0's rmse: 4594.5\n",
      "[2600]\tvalid_0's rmse: 4553.68\n",
      "[2800]\tvalid_0's rmse: 4522.83\n",
      "[3000]\tvalid_0's rmse: 4494.48\n",
      "[3200]\tvalid_0's rmse: 4467.89\n",
      "[3400]\tvalid_0's rmse: 4440.55\n",
      "[3600]\tvalid_0's rmse: 4418.8\n",
      "[3800]\tvalid_0's rmse: 4398.22\n",
      "[4000]\tvalid_0's rmse: 4373.34\n",
      "[4200]\tvalid_0's rmse: 4358.81\n",
      "[4400]\tvalid_0's rmse: 4340.05\n",
      "[4600]\tvalid_0's rmse: 4322.15\n",
      "[4800]\tvalid_0's rmse: 4309.28\n",
      "[5000]\tvalid_0's rmse: 4290.06\n",
      "[5200]\tvalid_0's rmse: 4276.53\n",
      "[5400]\tvalid_0's rmse: 4262.09\n",
      "[5600]\tvalid_0's rmse: 4249.07\n",
      "[5800]\tvalid_0's rmse: 4236.75\n",
      "[6000]\tvalid_0's rmse: 4227.42\n",
      "[6200]\tvalid_0's rmse: 4216.7\n",
      "[6400]\tvalid_0's rmse: 4204.08\n",
      "[6600]\tvalid_0's rmse: 4197.29\n",
      "[6800]\tvalid_0's rmse: 4187.07\n",
      "[7000]\tvalid_0's rmse: 4179.06\n",
      "Did not meet early stopping. Best iteration is:\n",
      "[7000]\tvalid_0's rmse: 4179.06\n",
      "Training until validation scores don't improve for 100 rounds.\n",
      "[200]\tvalid_0's rmse: 6270.42\n",
      "[400]\tvalid_0's rmse: 5646.02\n",
      "[600]\tvalid_0's rmse: 5323.92\n",
      "[800]\tvalid_0's rmse: 5142.51\n",
      "[1000]\tvalid_0's rmse: 5005.17\n",
      "[1200]\tvalid_0's rmse: 4900.64\n",
      "[1400]\tvalid_0's rmse: 4816.4\n",
      "[1600]\tvalid_0's rmse: 4741.07\n",
      "[1800]\tvalid_0's rmse: 4681.42\n",
      "[2000]\tvalid_0's rmse: 4628.22\n",
      "[2200]\tvalid_0's rmse: 4580.95\n",
      "[2400]\tvalid_0's rmse: 4539.22\n",
      "[2600]\tvalid_0's rmse: 4501.82\n",
      "[2800]\tvalid_0's rmse: 4470.07\n",
      "[3000]\tvalid_0's rmse: 4440.98\n",
      "[3200]\tvalid_0's rmse: 4411.25\n",
      "[3400]\tvalid_0's rmse: 4384.49\n",
      "[3600]\tvalid_0's rmse: 4363.21\n",
      "[3800]\tvalid_0's rmse: 4345.26\n",
      "[4000]\tvalid_0's rmse: 4326.17\n",
      "[4200]\tvalid_0's rmse: 4308.3\n",
      "[4400]\tvalid_0's rmse: 4290.29\n",
      "[4600]\tvalid_0's rmse: 4276.32\n",
      "[4800]\tvalid_0's rmse: 4261.38\n",
      "[5000]\tvalid_0's rmse: 4249.62\n",
      "[5200]\tvalid_0's rmse: 4234.98\n",
      "[5400]\tvalid_0's rmse: 4221.41\n",
      "[5600]\tvalid_0's rmse: 4209.77\n",
      "[5800]\tvalid_0's rmse: 4197.15\n",
      "[6000]\tvalid_0's rmse: 4188.45\n",
      "[6200]\tvalid_0's rmse: 4183.31\n",
      "[6400]\tvalid_0's rmse: 4169.57\n",
      "[6600]\tvalid_0's rmse: 4163.28\n",
      "[6800]\tvalid_0's rmse: 4155.19\n",
      "[7000]\tvalid_0's rmse: 4148.04\n",
      "Did not meet early stopping. Best iteration is:\n",
      "[6993]\tvalid_0's rmse: 4147.99\n"
     ]
    }
   ],
   "source": [
    "# Light GBM도 마찬가지로 Cross validation 진행\n",
    "\n",
    "lgbm_CV = pd.DataFrame(np.zeros(len(test_df)*5).reshape(len(test_df),-1), columns = ['first','second','third','fourth','fifth'])\n",
    "cv = KFold(5, shuffle=True, random_state=2019) # K-fold =5 진행\n",
    "for i, (idx_train, idx_test) in enumerate(cv.split(CrossV_lgbm)):\n",
    "    df_train = CrossV_lgbm.iloc[idx_train]\n",
    "    df_test = CrossV_lgbm.iloc[idx_test]\n",
    "    \n",
    "    train_data = lgb.Dataset(df_train[df_train.columns[[range(19)]]],label=df_train[df_train.columns[19]])\n",
    "    test_data = lgb.Dataset(df_test[df_test.columns[[range(19)]]],label=df_test[df_test.columns[19]])\n",
    "    \n",
    "    model = lgb.train(parameters,\n",
    "                       train_data,\n",
    "                       valid_sets=test_data,\n",
    "                       num_boost_round=7000, # 부스팅횟수 : 7000\n",
    "                       early_stopping_rounds=100, verbose_eval=200)\n",
    "    pred_y = model.predict(test_df)\n",
    "    \n",
    "    lgbm_CV[lgbm_CV.columns[i]] = pred_y"
   ]
  },
  {
   "cell_type": "code",
   "execution_count": 132,
   "metadata": {},
   "outputs": [
    {
     "data": {
      "text/html": [
       "<div>\n",
       "<style scoped>\n",
       "    .dataframe tbody tr th:only-of-type {\n",
       "        vertical-align: middle;\n",
       "    }\n",
       "\n",
       "    .dataframe tbody tr th {\n",
       "        vertical-align: top;\n",
       "    }\n",
       "\n",
       "    .dataframe thead th {\n",
       "        text-align: right;\n",
       "    }\n",
       "</style>\n",
       "<table border=\"1\" class=\"dataframe\">\n",
       "  <thead>\n",
       "    <tr style=\"text-align: right;\">\n",
       "      <th></th>\n",
       "      <th>first</th>\n",
       "      <th>second</th>\n",
       "      <th>third</th>\n",
       "      <th>fourth</th>\n",
       "      <th>fifth</th>\n",
       "    </tr>\n",
       "  </thead>\n",
       "  <tbody>\n",
       "    <tr>\n",
       "      <th>0</th>\n",
       "      <td>31464.499399</td>\n",
       "      <td>31708.188330</td>\n",
       "      <td>32240.789008</td>\n",
       "      <td>31739.200228</td>\n",
       "      <td>31825.683286</td>\n",
       "    </tr>\n",
       "    <tr>\n",
       "      <th>1</th>\n",
       "      <td>32149.193427</td>\n",
       "      <td>31970.106421</td>\n",
       "      <td>31914.680556</td>\n",
       "      <td>32044.426059</td>\n",
       "      <td>32490.420087</td>\n",
       "    </tr>\n",
       "    <tr>\n",
       "      <th>2</th>\n",
       "      <td>35118.641949</td>\n",
       "      <td>34749.026294</td>\n",
       "      <td>34883.809445</td>\n",
       "      <td>35541.813303</td>\n",
       "      <td>34820.668828</td>\n",
       "    </tr>\n",
       "    <tr>\n",
       "      <th>3</th>\n",
       "      <td>33826.087487</td>\n",
       "      <td>33592.123207</td>\n",
       "      <td>33754.458445</td>\n",
       "      <td>34611.239456</td>\n",
       "      <td>33932.150965</td>\n",
       "    </tr>\n",
       "    <tr>\n",
       "      <th>4</th>\n",
       "      <td>26283.408768</td>\n",
       "      <td>26310.487920</td>\n",
       "      <td>26102.261664</td>\n",
       "      <td>26775.669029</td>\n",
       "      <td>26461.807259</td>\n",
       "    </tr>\n",
       "  </tbody>\n",
       "</table>\n",
       "</div>"
      ],
      "text/plain": [
       "          first        second      ...             fourth         fifth\n",
       "0  31464.499399  31708.188330      ...       31739.200228  31825.683286\n",
       "1  32149.193427  31970.106421      ...       32044.426059  32490.420087\n",
       "2  35118.641949  34749.026294      ...       35541.813303  34820.668828\n",
       "3  33826.087487  33592.123207      ...       34611.239456  33932.150965\n",
       "4  26283.408768  26310.487920      ...       26775.669029  26461.807259\n",
       "\n",
       "[5 rows x 5 columns]"
      ]
     },
     "execution_count": 132,
     "metadata": {},
     "output_type": "execute_result"
    }
   ],
   "source": [
    "lgbm_CV.head()"
   ]
  },
  {
   "cell_type": "code",
   "execution_count": 133,
   "metadata": {},
   "outputs": [],
   "source": [
    "# 5개의 예측값 평균 산출\n",
    "lgbm_CV['mean'] = lgbm_CV.sum(axis=1)/5 "
   ]
  },
  {
   "cell_type": "code",
   "execution_count": 134,
   "metadata": {},
   "outputs": [],
   "source": [
    "# submission 파일과합치기위해 transaction_id 를 concat\n",
    "id_join_lgbm = pd.concat([lgbm_CV,transaction_id],axis=1)"
   ]
  },
  {
   "cell_type": "code",
   "execution_count": 135,
   "metadata": {},
   "outputs": [
    {
     "data": {
      "text/html": [
       "<div>\n",
       "<style scoped>\n",
       "    .dataframe tbody tr th:only-of-type {\n",
       "        vertical-align: middle;\n",
       "    }\n",
       "\n",
       "    .dataframe tbody tr th {\n",
       "        vertical-align: top;\n",
       "    }\n",
       "\n",
       "    .dataframe thead th {\n",
       "        text-align: right;\n",
       "    }\n",
       "</style>\n",
       "<table border=\"1\" class=\"dataframe\">\n",
       "  <thead>\n",
       "    <tr style=\"text-align: right;\">\n",
       "      <th></th>\n",
       "      <th>first</th>\n",
       "      <th>second</th>\n",
       "      <th>third</th>\n",
       "      <th>fourth</th>\n",
       "      <th>fifth</th>\n",
       "      <th>mean</th>\n",
       "      <th>transaction_id</th>\n",
       "    </tr>\n",
       "  </thead>\n",
       "  <tbody>\n",
       "    <tr>\n",
       "      <th>0</th>\n",
       "      <td>31464.499399</td>\n",
       "      <td>31708.188330</td>\n",
       "      <td>32240.789008</td>\n",
       "      <td>31739.200228</td>\n",
       "      <td>31825.683286</td>\n",
       "      <td>31795.672050</td>\n",
       "      <td>1092791.0</td>\n",
       "    </tr>\n",
       "    <tr>\n",
       "      <th>1</th>\n",
       "      <td>32149.193427</td>\n",
       "      <td>31970.106421</td>\n",
       "      <td>31914.680556</td>\n",
       "      <td>32044.426059</td>\n",
       "      <td>32490.420087</td>\n",
       "      <td>32113.765310</td>\n",
       "      <td>1092885.0</td>\n",
       "    </tr>\n",
       "    <tr>\n",
       "      <th>2</th>\n",
       "      <td>35118.641949</td>\n",
       "      <td>34749.026294</td>\n",
       "      <td>34883.809445</td>\n",
       "      <td>35541.813303</td>\n",
       "      <td>34820.668828</td>\n",
       "      <td>35022.791964</td>\n",
       "      <td>1092916.0</td>\n",
       "    </tr>\n",
       "    <tr>\n",
       "      <th>3</th>\n",
       "      <td>33826.087487</td>\n",
       "      <td>33592.123207</td>\n",
       "      <td>33754.458445</td>\n",
       "      <td>34611.239456</td>\n",
       "      <td>33932.150965</td>\n",
       "      <td>33943.211912</td>\n",
       "      <td>1092919.0</td>\n",
       "    </tr>\n",
       "    <tr>\n",
       "      <th>4</th>\n",
       "      <td>26283.408768</td>\n",
       "      <td>26310.487920</td>\n",
       "      <td>26102.261664</td>\n",
       "      <td>26775.669029</td>\n",
       "      <td>26461.807259</td>\n",
       "      <td>26386.726928</td>\n",
       "      <td>1092937.0</td>\n",
       "    </tr>\n",
       "  </tbody>\n",
       "</table>\n",
       "</div>"
      ],
      "text/plain": [
       "          first        second       ...                mean  transaction_id\n",
       "0  31464.499399  31708.188330       ...        31795.672050       1092791.0\n",
       "1  32149.193427  31970.106421       ...        32113.765310       1092885.0\n",
       "2  35118.641949  34749.026294       ...        35022.791964       1092916.0\n",
       "3  33826.087487  33592.123207       ...        33943.211912       1092919.0\n",
       "4  26283.408768  26310.487920       ...        26386.726928       1092937.0\n",
       "\n",
       "[5 rows x 7 columns]"
      ]
     },
     "execution_count": 135,
     "metadata": {},
     "output_type": "execute_result"
    }
   ],
   "source": [
    "id_join_lgbm.head()"
   ]
  },
  {
   "cell_type": "code",
   "execution_count": 136,
   "metadata": {},
   "outputs": [],
   "source": [
    "submission = pd.read_csv('../input/dacon-apartment-price-prediction/submission.csv')"
   ]
  },
  {
   "cell_type": "code",
   "execution_count": 137,
   "metadata": {},
   "outputs": [],
   "source": [
    "final_lgbm = pd.merge(submission,id_join_lgbm,on='transaction_id',how='outer')"
   ]
  },
  {
   "cell_type": "code",
   "execution_count": 138,
   "metadata": {},
   "outputs": [],
   "source": [
    "# 예측값 5개의 mean(평균) 값을 transaction_real_price로 할당\n",
    "final_lgbm['transaction_real_price'] = final_lgbm['mean']"
   ]
  },
  {
   "cell_type": "code",
   "execution_count": 139,
   "metadata": {},
   "outputs": [],
   "source": [
    "final_real_lgbm = final_lgbm[final_lgbm.columns[[0,1]]]"
   ]
  },
  {
   "cell_type": "code",
   "execution_count": 140,
   "metadata": {},
   "outputs": [
    {
     "data": {
      "text/html": [
       "<div>\n",
       "<style scoped>\n",
       "    .dataframe tbody tr th:only-of-type {\n",
       "        vertical-align: middle;\n",
       "    }\n",
       "\n",
       "    .dataframe tbody tr th {\n",
       "        vertical-align: top;\n",
       "    }\n",
       "\n",
       "    .dataframe thead th {\n",
       "        text-align: right;\n",
       "    }\n",
       "</style>\n",
       "<table border=\"1\" class=\"dataframe\">\n",
       "  <thead>\n",
       "    <tr style=\"text-align: right;\">\n",
       "      <th></th>\n",
       "      <th>transaction_id</th>\n",
       "      <th>transaction_real_price</th>\n",
       "    </tr>\n",
       "  </thead>\n",
       "  <tbody>\n",
       "    <tr>\n",
       "      <th>0</th>\n",
       "      <td>1145756</td>\n",
       "      <td>26046.619294</td>\n",
       "    </tr>\n",
       "    <tr>\n",
       "      <th>1</th>\n",
       "      <td>1198704</td>\n",
       "      <td>16734.892447</td>\n",
       "    </tr>\n",
       "    <tr>\n",
       "      <th>2</th>\n",
       "      <td>1222384</td>\n",
       "      <td>11467.711975</td>\n",
       "    </tr>\n",
       "    <tr>\n",
       "      <th>3</th>\n",
       "      <td>1179897</td>\n",
       "      <td>110797.169418</td>\n",
       "    </tr>\n",
       "    <tr>\n",
       "      <th>4</th>\n",
       "      <td>1223091</td>\n",
       "      <td>48357.971616</td>\n",
       "    </tr>\n",
       "  </tbody>\n",
       "</table>\n",
       "</div>"
      ],
      "text/plain": [
       "   transaction_id  transaction_real_price\n",
       "0         1145756            26046.619294\n",
       "1         1198704            16734.892447\n",
       "2         1222384            11467.711975\n",
       "3         1179897           110797.169418\n",
       "4         1223091            48357.971616"
      ]
     },
     "execution_count": 140,
     "metadata": {},
     "output_type": "execute_result"
    }
   ],
   "source": [
    "final_real_lgbm.head()"
   ]
  },
  {
   "cell_type": "code",
   "execution_count": 141,
   "metadata": {},
   "outputs": [],
   "source": [
    "# RF 모델과 Lgbm 모델의 예측값들을 합침\n",
    "real_final = pd.merge(final_real_forest,final_real_lgbm,on='transaction_id',how='outer')"
   ]
  },
  {
   "cell_type": "code",
   "execution_count": 142,
   "metadata": {},
   "outputs": [],
   "source": [
    "# 두 모델의 예측값의 평균값을 최종 예측값으로 사용\n",
    "real_final['transaction_real_price'] = (real_final['transaction_real_price_x']+real_final['transaction_real_price_y'])/2"
   ]
  },
  {
   "cell_type": "code",
   "execution_count": 143,
   "metadata": {},
   "outputs": [],
   "source": [
    "real_finall = real_final[['transaction_id','transaction_real_price']]"
   ]
  },
  {
   "cell_type": "code",
   "execution_count": 144,
   "metadata": {},
   "outputs": [],
   "source": [
    "real_finall.to_csv('submission_ensemble.csv',index=False)"
   ]
  }
 ],
 "metadata": {
  "kernelspec": {
   "display_name": "Python 3",
   "language": "python",
   "name": "python3"
  },
  "language_info": {
   "codemirror_mode": {
    "name": "ipython",
    "version": 3
   },
   "file_extension": ".py",
   "mimetype": "text/x-python",
   "name": "python",
   "nbconvert_exporter": "python",
   "pygments_lexer": "ipython3",
   "version": "3.7.3"
  }
 },
 "nbformat": 4,
 "nbformat_minor": 1
}
